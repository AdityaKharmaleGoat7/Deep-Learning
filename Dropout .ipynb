{
 "cells": [
  {
   "cell_type": "code",
   "execution_count": 1,
   "id": "7bec9710",
   "metadata": {},
   "outputs": [],
   "source": [
    "import numpy as np\n",
    "import matplotlib.pyplot as plt\n"
   ]
  },
  {
   "cell_type": "code",
   "execution_count": 2,
   "id": "125700c6",
   "metadata": {},
   "outputs": [],
   "source": [
    "X = np.array([[-1.58986e-01,  4.23977e-01],\n",
    "       [-3.47926e-01,  4.70760e-01],\n",
    "       [-5.04608e-01,  3.53801e-01],\n",
    "       [-5.96774e-01,  1.14035e-01],\n",
    "       [-5.18433e-01, -1.72515e-01],\n",
    "       [-2.92627e-01, -2.07602e-01],\n",
    "       [-1.58986e-01, -4.38596e-02],\n",
    "       [-5.76037e-02,  1.43275e-01],\n",
    "       [-7.14286e-02,  2.71930e-01],\n",
    "       [-2.97235e-01,  3.47953e-01],\n",
    "       [-4.17051e-01,  2.01754e-01],\n",
    "       [-4.40092e-01,  8.77193e-03],\n",
    "       [-3.24885e-01, -3.21637e-02],\n",
    "       [-2.46544e-01,  5.55556e-02],\n",
    "       [-2.18894e-01,  2.01754e-01],\n",
    "       [-3.43318e-01,  1.60819e-01],\n",
    "       [-5.09217e-01,  7.89474e-02],\n",
    "       [-3.84793e-01, -9.06433e-02],\n",
    "       [-1.49770e-01,  1.25731e-01],\n",
    "       [-1.95853e-01,  3.24561e-01],\n",
    "       [-3.91705e-02, -2.19298e-01],\n",
    "       [-1.08295e-01, -3.01170e-01],\n",
    "       [-1.86636e-01, -3.30409e-01],\n",
    "       [-2.18894e-01, -4.23977e-01],\n",
    "       [-8.06452e-02, -5.64327e-01],\n",
    "       [ 6.68203e-02, -5.17544e-01],\n",
    "       [ 9.44700e-02, -3.24561e-01],\n",
    "       [ 1.86636e-01, -1.66667e-01],\n",
    "       [ 6.22120e-02, -7.30994e-02],\n",
    "       [ 2.07373e-02, -1.95906e-01],\n",
    "       [ 2.99539e-02, -3.42105e-01],\n",
    "       [-9.90783e-02, -3.77193e-01],\n",
    "       [-6.91244e-03, -4.64912e-01],\n",
    "       [ 1.31336e-01, -4.29825e-01],\n",
    "       [ 2.32719e-01, -1.95906e-01],\n",
    "       [ 8.52535e-02, -8.47953e-02],\n",
    "       [-1.31336e-01, -2.36842e-01],\n",
    "       [ 2.30415e-03, -1.25731e-01],\n",
    "       [ 1.22120e-01, -2.92398e-03],\n",
    "       [-3.47926e-01, -3.12865e-01],\n",
    "       [-2.28111e-01, -1.25731e-01],\n",
    "       [-7.60369e-02,  1.46199e-02],\n",
    "       [ 4.37788e-02,  2.04678e-02],\n",
    "       [ 1.15207e-02,  1.54971e-01],\n",
    "       [-4.17051e-01, -1.60819e-01],\n",
    "       [-3.15668e-01, -3.18713e-01],\n",
    "       [ 1.26728e-01, -2.19298e-01],\n",
    "       [ 2.05069e-01, -3.12865e-01],\n",
    "       [ 2.18894e-01, -4.59064e-01],\n",
    "       [ 7.14286e-02, -6.46199e-01],\n",
    "       [-1.31336e-01, -6.05263e-01],\n",
    "       [-2.09677e-01, -5.81871e-01],\n",
    "       [-2.28111e-01, -4.29825e-01],\n",
    "       [-1.45161e-01, -4.12281e-01],\n",
    "       [-6.68203e-02, -4.82456e-01],\n",
    "       [ 1.35945e-01, -5.11696e-01],\n",
    "       [ 2.69585e-01, -4.06433e-01],\n",
    "       [ 2.97235e-01, -2.95322e-01],\n",
    "       [ 2.74194e-01, -1.72515e-01],\n",
    "       [ 2.55760e-01, -4.97076e-02],\n",
    "       [ 2.23502e-01, -4.97076e-02],\n",
    "       [ 1.82028e-01, -8.47953e-02],\n",
    "       [ 1.58986e-01, -1.54971e-01],\n",
    "       [ 7.14286e-02, -2.13450e-01],\n",
    "       [ 1.61290e-02, -2.66082e-01],\n",
    "       [-2.53456e-02, -3.83041e-01],\n",
    "       [-1.15207e-02, -4.82456e-01],\n",
    "       [-2.30415e-03, -5.05848e-01],\n",
    "       [ 2.53456e-02, -5.11696e-01],\n",
    "       [ 2.53456e-02, -5.58480e-01],\n",
    "       [ 1.15207e-02, -6.57895e-01],\n",
    "       [-4.83871e-02, -6.46199e-01],\n",
    "       [-8.52535e-02, -5.52632e-01],\n",
    "       [-9.90783e-02, -5.00000e-01],\n",
    "       [-1.61290e-02, -4.23977e-01],\n",
    "       [ 1.31336e-01, -3.59649e-01],\n",
    "       [ 2.23502e-01, -3.71345e-01],\n",
    "       [ 2.92627e-01, -3.01170e-01],\n",
    "       [ 2.60369e-01, -2.07602e-01],\n",
    "       [ 2.00461e-01, -2.25146e-01],\n",
    "       [ 1.72811e-01, -2.71930e-01],\n",
    "       [-1.31336e-01,  9.06433e-02],\n",
    "       [-1.49770e-01,  7.30994e-02],\n",
    "       [-2.41935e-01,  6.14035e-02],\n",
    "       [-3.01843e-01,  1.78363e-01],\n",
    "       [-2.97235e-01,  1.95906e-01],\n",
    "       [-2.74194e-01,  3.07018e-01],\n",
    "       [-3.24885e-01,  2.95322e-01],\n",
    "       [-3.98618e-01,  2.66082e-01],\n",
    "       [-4.35484e-01,  1.60819e-01],\n",
    "       [-4.72350e-01,  7.89474e-02],\n",
    "       [-3.38710e-01,  4.38596e-02],\n",
    "       [-2.69585e-01,  4.38596e-02],\n",
    "       [-2.55760e-01,  1.02339e-01],\n",
    "       [-1.68203e-01,  2.66082e-01],\n",
    "       [-1.12903e-01,  3.01170e-01],\n",
    "       [-3.91705e-02,  3.47953e-01],\n",
    "       [-1.26728e-01,  4.41520e-01],\n",
    "       [-2.32719e-01,  4.41520e-01],\n",
    "       [-3.38710e-01,  4.18129e-01],\n",
    "       [-4.12442e-01,  3.53801e-01],\n",
    "       [-5.09217e-01,  2.19298e-01],\n",
    "       [-5.41475e-01,  1.46199e-02],\n",
    "       [-5.04608e-01, -1.25731e-01],\n",
    "       [-4.90783e-01, -1.43275e-01],\n",
    "       [-3.61751e-01, -1.37427e-01],\n",
    "       [-2.69585e-01, -8.47953e-02],\n",
    "       [-2.23502e-01, -7.89474e-02],\n",
    "       [-1.86636e-01, -3.80117e-02],\n",
    "       [-1.54378e-01, -8.77193e-03],\n",
    "       [-1.12903e-01,  5.55556e-02],\n",
    "       [-8.52535e-02,  1.37427e-01],\n",
    "       [-8.52535e-02,  2.77778e-01],\n",
    "       [-1.68203e-01,  3.01170e-01],\n",
    "       [-1.91244e-01,  1.95906e-01],\n",
    "       [-1.40553e-01, -4.97076e-02],\n",
    "       [-2.99539e-02,  6.72515e-02],\n",
    "       [-2.00461e-01, -2.30994e-01],\n",
    "       [-1.08295e-01, -8.47953e-02],\n",
    "       [ 3.45622e-02,  6.72515e-02],\n",
    "       [ 8.06452e-02,  1.19883e-01],\n",
    "       [-3.85369e-01,  3.30409e-02],\n",
    "       [-3.81221e-01,  1.31287e-01],\n",
    "       [-3.52189e-01,  2.58187e-01],\n",
    "       [-3.54263e-01,  3.64620e-01],\n",
    "       [-4.14401e-01, -6.92982e-02],\n",
    "       [-4.99424e-01, -3.24561e-02],\n",
    "       [-2.98272e-01, -9.79532e-02],\n",
    "       [-3.16935e-01, -1.83918e-01],\n",
    "       [-3.68779e-01, -2.90351e-01],\n",
    "       [-3.56336e-01, -3.96784e-01],\n",
    "       [-2.71313e-01,  4.38596e-03],\n",
    "       [-1.77995e-01,  8.62573e-02],\n",
    "       [-2.46429e-01,  1.43567e-01],\n",
    "       [-2.50576e-01,  2.29532e-01],\n",
    "       [-2.21544e-01,  3.76901e-01],\n",
    "       [-2.15323e-01,  2.95029e-01],\n",
    "       [-1.30300e-01,  2.17251e-01],\n",
    "       [-2.07028e-01,  2.89474e-02],\n",
    "       [-9.71198e-02,  2.13158e-01],\n",
    "       [-3.90553e-02,  2.58187e-01],\n",
    "       [ 1.90092e-02,  4.01462e-01],\n",
    "       [-3.69816e-02,  4.21930e-01],\n",
    "       [-6.39401e-02,  3.31871e-01],\n",
    "       [-1.30300e-01,  3.76901e-01],\n",
    "       [-3.75000e-01, -4.37719e-01],\n",
    "       [-3.95737e-01, -3.51754e-01],\n",
    "       [-3.54263e-01, -2.08480e-01],\n",
    "       [-4.37212e-01, -3.76316e-01],\n",
    "       [-4.80760e-01, -5.03216e-01],\n",
    "       [-4.10253e-01, -4.66374e-01],\n",
    "       [-2.48502e-01, -2.57602e-01],\n",
    "       [-2.27765e-01, -3.14912e-01],\n",
    "       [-2.83756e-01, -3.84503e-01],\n",
    "       [-2.92051e-01, -4.54094e-01],\n",
    "       [-3.37673e-01, -5.19591e-01],\n",
    "       [-2.77535e-01, -5.48246e-01],\n",
    "       [-2.07028e-01, -5.35965e-01],\n",
    "       [-1.86290e-01, -4.78655e-01],\n",
    "       [-1.32373e-01, -5.07310e-01],\n",
    "       [-1.77995e-01, -2.98538e-01],\n",
    "       [-1.65553e-01, -1.75731e-01],\n",
    "       [-1.61406e-01, -1.26608e-01],\n",
    "       [ 3.45622e-04,  2.58187e-01],\n",
    "       [ 7.91475e-02,  3.56433e-01],\n",
    "       [-2.66129e-02,  1.80409e-01],\n",
    "       [-5.35714e-02,  7.80702e-02],\n",
    "       [-1.41705e-02, -5.29240e-02],\n",
    "       [-7.01613e-02, -1.63450e-01],\n",
    "       [-6.39401e-02, -2.94444e-01],\n",
    "       [-3.07604e-02, -4.66374e-01],\n",
    "       [-5.77189e-02, -5.27778e-01],\n",
    "       [-5.35714e-02, -3.96784e-01],\n",
    "       [ 5.21889e-02, -4.17251e-01],\n",
    "       [-1.62442e-02, -1.67544e-01],\n",
    "       [-6.39401e-02, -8.56725e-02],\n",
    "       [-6.18664e-02, -1.60819e-02],\n",
    "       [-3.80184e-03,  4.38596e-03],\n",
    "       [ 4.18203e-02,  2.04971e-01],\n",
    "       [ 7.91475e-02,  1.92690e-01],\n",
    "       [ 4.59677e-02,  2.54094e-01],\n",
    "       [ 1.18548e-01,  1.92690e-01],\n",
    "       [ 1.10253e-01,  8.62573e-02],\n",
    "       [ 1.08180e-01, -6.92982e-02],\n",
    "       [ 1.66244e-01, -2.42690e-02],\n",
    "       [ 1.41359e-01,  6.57895e-02],\n",
    "       [ 1.43433e-01,  1.68129e-01],\n",
    "       [ 1.70392e-01,  1.92690e-01],\n",
    "       [ 1.08180e-01,  2.99123e-01],\n",
    "       [ 1.18548e-01,  3.19591e-01],\n",
    "       [ 1.26843e-01,  3.93275e-01],\n",
    "       [-8.67512e-02,  4.21930e-01],\n",
    "       [-4.73502e-02,  5.07895e-01],\n",
    "       [ 2.52304e-02,  5.20175e-01],\n",
    "       [ 6.25576e-02,  5.52924e-01],\n",
    "       [-5.87558e-03,  4.42398e-01],\n",
    "       [-5.14977e-02,  5.73392e-01],\n",
    "       [-8.05300e-02,  5.07895e-01],\n",
    "       [-1.53111e-01,  5.52924e-01],\n",
    "       [-1.11636e-01,  5.48830e-01],\n",
    "       [-1.63479e-01,  4.91520e-01],\n",
    "       [-2.52650e-01, -1.88012e-01],\n",
    "       [-2.46429e-01, -3.65497e-02],\n",
    "       [-3.21083e-01, -4.33626e-01],\n",
    "       [-3.31452e-01, -6.05556e-01],\n",
    "       [-3.85369e-01, -5.15497e-01],\n",
    "       [-3.99885e-01, -6.21930e-01],\n",
    "       [-1.24078e-01, -1.26608e-01],\n",
    "       [-3.16935e-01, -2.28947e-01],\n",
    "       [-2.94124e-01, -1.34795e-01],\n",
    "       [-1.53111e-01,  1.84503e-01]])"
   ]
  },
  {
   "cell_type": "code",
   "execution_count": 3,
   "id": "21bd197e",
   "metadata": {},
   "outputs": [],
   "source": [
    "y = np.array([1., 1., 1., 1., 1., 1., 1., 1., 1., 1., 1., 1., 1., 1., 1., 1., 1.,\n",
    "       1., 1., 1., 0., 0., 0., 0., 0., 0., 0., 0., 0., 0., 0., 0., 0., 0.,\n",
    "       0., 0., 1., 1., 1., 0., 0., 0., 0., 0., 0., 0., 0., 0., 0., 0., 0.,\n",
    "       0., 0., 0., 0., 0., 0., 0., 0., 0., 0., 0., 0., 0., 0., 0., 0., 0.,\n",
    "       0., 0., 0., 0., 0., 0., 0., 0., 0., 0., 0., 0., 0., 1., 1., 1., 1.,\n",
    "       1., 1., 1., 1., 1., 1., 1., 1., 1., 1., 1., 1., 1., 1., 1., 1., 1.,\n",
    "       1., 1., 1., 1., 1., 1., 1., 1., 1., 1., 1., 1., 1., 1., 1., 0., 0.,\n",
    "       0., 0., 1., 1., 1., 1., 1., 1., 1., 1., 1., 1., 1., 1., 1., 1., 1.,\n",
    "       1., 1., 1., 1., 1., 1., 1., 1., 1., 1., 1., 1., 1., 1., 1., 0., 0.,\n",
    "       0., 0., 0., 0., 0., 0., 0., 0., 0., 0., 0., 0., 0., 0., 0., 0., 0.,\n",
    "       0., 0., 0., 0., 0., 0., 0., 0., 0., 0., 0., 0., 0., 0., 0., 0., 0.,\n",
    "       0., 0., 0., 0., 1., 1., 1., 1., 1., 1., 1., 1., 1., 1., 1., 1., 1.,\n",
    "       0., 1., 1., 1., 1., 0., 0.])"
   ]
  },
  {
   "cell_type": "code",
   "execution_count": 4,
   "id": "3f7c05a0",
   "metadata": {},
   "outputs": [
    {
     "data": {
      "image/png": "[encoded data removed]",
      "text/plain": [
       "<Figure size 432x288 with 1 Axes>"
      ]
     },
     "metadata": {
      "needs_background": "light"
     },
     "output_type": "display_data"
    }
   ],
   "source": [
    "import matplotlib.pyplot as plt\n",
    "plt.scatter(X[:,0], X[:,1], c=y)\n",
    "plt.show()"
   ]
  },
  {
   "cell_type": "code",
   "execution_count": 10,
   "id": "575d5b4b",
   "metadata": {},
   "outputs": [
    {
     "ename": "TypeError",
     "evalue": "Unable to convert function return value to a Python type! The signature was\n\t() -> handle",
     "output_type": "error",
     "traceback": [
      "\u001b[1;31m---------------------------------------------------------------------------\u001b[0m",
      "\u001b[1;31mTypeError\u001b[0m                                 Traceback (most recent call last)",
      "Input \u001b[1;32mIn [10]\u001b[0m, in \u001b[0;36m<cell line: 1>\u001b[1;34m()\u001b[0m\n\u001b[1;32m----> 1\u001b[0m \u001b[38;5;28;01mfrom\u001b[39;00m \u001b[38;5;21;01mtensorflow\u001b[39;00m\u001b[38;5;21;01m.\u001b[39;00m\u001b[38;5;21;01mkeras\u001b[39;00m\u001b[38;5;21;01m.\u001b[39;00m\u001b[38;5;21;01mmodels\u001b[39;00m \u001b[38;5;28;01mimport\u001b[39;00m Sequential\n\u001b[0;32m      2\u001b[0m \u001b[38;5;28;01mfrom\u001b[39;00m \u001b[38;5;21;01mtensorflow\u001b[39;00m\u001b[38;5;21;01m.\u001b[39;00m\u001b[38;5;21;01mkeras\u001b[39;00m\u001b[38;5;21;01m.\u001b[39;00m\u001b[38;5;21;01mlayers\u001b[39;00m \u001b[38;5;28;01mimport\u001b[39;00m Dense\n\u001b[0;32m      3\u001b[0m \u001b[38;5;28;01mfrom\u001b[39;00m \u001b[38;5;21;01mtensorflow\u001b[39;00m\u001b[38;5;21;01m.\u001b[39;00m\u001b[38;5;21;01mkeras\u001b[39;00m\u001b[38;5;21;01m.\u001b[39;00m\u001b[38;5;21;01mlayers\u001b[39;00m \u001b[38;5;28;01mimport\u001b[39;00m Dropout\n",
      "File \u001b[1;32m~\\AppData\\Roaming\\Python\\Python39\\site-packages\\tensorflow\\__init__.py:38\u001b[0m, in \u001b[0;36m<module>\u001b[1;34m\u001b[0m\n\u001b[0;32m     35\u001b[0m \u001b[38;5;28;01mimport\u001b[39;00m \u001b[38;5;21;01msys\u001b[39;00m \u001b[38;5;28;01mas\u001b[39;00m \u001b[38;5;21;01m_sys\u001b[39;00m\n\u001b[0;32m     36\u001b[0m \u001b[38;5;28;01mimport\u001b[39;00m \u001b[38;5;21;01mtyping\u001b[39;00m \u001b[38;5;28;01mas\u001b[39;00m \u001b[38;5;21;01m_typing\u001b[39;00m\n\u001b[1;32m---> 38\u001b[0m \u001b[38;5;28;01mfrom\u001b[39;00m \u001b[38;5;21;01mtensorflow\u001b[39;00m\u001b[38;5;21;01m.\u001b[39;00m\u001b[38;5;21;01mpython\u001b[39;00m\u001b[38;5;21;01m.\u001b[39;00m\u001b[38;5;21;01mtools\u001b[39;00m \u001b[38;5;28;01mimport\u001b[39;00m module_util \u001b[38;5;28;01mas\u001b[39;00m _module_util\n\u001b[0;32m     39\u001b[0m \u001b[38;5;28;01mfrom\u001b[39;00m \u001b[38;5;21;01mtensorflow\u001b[39;00m\u001b[38;5;21;01m.\u001b[39;00m\u001b[38;5;21;01mpython\u001b[39;00m\u001b[38;5;21;01m.\u001b[39;00m\u001b[38;5;21;01mutil\u001b[39;00m\u001b[38;5;21;01m.\u001b[39;00m\u001b[38;5;21;01mlazy_loader\u001b[39;00m \u001b[38;5;28;01mimport\u001b[39;00m LazyLoader \u001b[38;5;28;01mas\u001b[39;00m _LazyLoader\n\u001b[0;32m     41\u001b[0m \u001b[38;5;66;03m# Make sure code inside the TensorFlow codebase can use tf2.enabled() at import.\u001b[39;00m\n",
      "File \u001b[1;32m~\\AppData\\Roaming\\Python\\Python39\\site-packages\\tensorflow\\python\\__init__.py:42\u001b[0m, in \u001b[0;36m<module>\u001b[1;34m\u001b[0m\n\u001b[0;32m     36\u001b[0m \u001b[38;5;28;01mfrom\u001b[39;00m \u001b[38;5;21;01mtensorflow\u001b[39;00m\u001b[38;5;21;01m.\u001b[39;00m\u001b[38;5;21;01mpython\u001b[39;00m \u001b[38;5;28;01mimport\u001b[39;00m pywrap_tensorflow \u001b[38;5;28;01mas\u001b[39;00m _pywrap_tensorflow\n\u001b[0;32m     38\u001b[0m \u001b[38;5;66;03m# pylint: enable=wildcard-import\u001b[39;00m\n\u001b[0;32m     39\u001b[0m \n\u001b[0;32m     40\u001b[0m \u001b[38;5;66;03m# from tensorflow.python import keras\u001b[39;00m\n\u001b[0;32m     41\u001b[0m \u001b[38;5;66;03m# from tensorflow.python.layers import layers\u001b[39;00m\n\u001b[1;32m---> 42\u001b[0m \u001b[38;5;28;01mfrom\u001b[39;00m \u001b[38;5;21;01mtensorflow\u001b[39;00m\u001b[38;5;21;01m.\u001b[39;00m\u001b[38;5;21;01mpython\u001b[39;00m\u001b[38;5;21;01m.\u001b[39;00m\u001b[38;5;21;01msaved_model\u001b[39;00m \u001b[38;5;28;01mimport\u001b[39;00m saved_model\n\u001b[0;32m     43\u001b[0m \u001b[38;5;28;01mfrom\u001b[39;00m \u001b[38;5;21;01mtensorflow\u001b[39;00m\u001b[38;5;21;01m.\u001b[39;00m\u001b[38;5;21;01mpython\u001b[39;00m\u001b[38;5;21;01m.\u001b[39;00m\u001b[38;5;21;01mtpu\u001b[39;00m \u001b[38;5;28;01mimport\u001b[39;00m api\n\u001b[0;32m     45\u001b[0m \u001b[38;5;66;03m# Sub-package for performing i/o directly instead of via ops in a graph.\u001b[39;00m\n",
      "File \u001b[1;32m~\\AppData\\Roaming\\Python\\Python39\\site-packages\\tensorflow\\python\\saved_model\\saved_model.py:20\u001b[0m, in \u001b[0;36m<module>\u001b[1;34m\u001b[0m\n\u001b[0;32m     15\u001b[0m \u001b[38;5;124;03m\"\"\"Convenience functions to save a model.\u001b[39;00m\n\u001b[0;32m     16\u001b[0m \u001b[38;5;124;03m\"\"\"\u001b[39;00m\n\u001b[0;32m     19\u001b[0m \u001b[38;5;66;03m# pylint: disable=unused-import\u001b[39;00m\n\u001b[1;32m---> 20\u001b[0m \u001b[38;5;28;01mfrom\u001b[39;00m \u001b[38;5;21;01mtensorflow\u001b[39;00m\u001b[38;5;21;01m.\u001b[39;00m\u001b[38;5;21;01mpython\u001b[39;00m\u001b[38;5;21;01m.\u001b[39;00m\u001b[38;5;21;01msaved_model\u001b[39;00m \u001b[38;5;28;01mimport\u001b[39;00m builder\n\u001b[0;32m     21\u001b[0m \u001b[38;5;28;01mfrom\u001b[39;00m \u001b[38;5;21;01mtensorflow\u001b[39;00m\u001b[38;5;21;01m.\u001b[39;00m\u001b[38;5;21;01mpython\u001b[39;00m\u001b[38;5;21;01m.\u001b[39;00m\u001b[38;5;21;01msaved_model\u001b[39;00m \u001b[38;5;28;01mimport\u001b[39;00m constants\n\u001b[0;32m     22\u001b[0m \u001b[38;5;28;01mfrom\u001b[39;00m \u001b[38;5;21;01mtensorflow\u001b[39;00m\u001b[38;5;21;01m.\u001b[39;00m\u001b[38;5;21;01mpython\u001b[39;00m\u001b[38;5;21;01m.\u001b[39;00m\u001b[38;5;21;01msaved_model\u001b[39;00m \u001b[38;5;28;01mimport\u001b[39;00m loader\n",
      "File \u001b[1;32m~\\AppData\\Roaming\\Python\\Python39\\site-packages\\tensorflow\\python\\saved_model\\builder.py:23\u001b[0m, in \u001b[0;36m<module>\u001b[1;34m\u001b[0m\n\u001b[0;32m     15\u001b[0m \u001b[38;5;124;03m\"\"\"SavedModel builder.\u001b[39;00m\n\u001b[0;32m     16\u001b[0m \n\u001b[0;32m     17\u001b[0m \u001b[38;5;124;03mBuilds a SavedModel that can be saved to storage, is language neutral, and\u001b[39;00m\n\u001b[0;32m     18\u001b[0m \u001b[38;5;124;03menables systems to produce, consume, or transform TensorFlow Models.\u001b[39;00m\n\u001b[0;32m     19\u001b[0m \n\u001b[0;32m     20\u001b[0m \u001b[38;5;124;03m\"\"\"\u001b[39;00m\n\u001b[0;32m     22\u001b[0m \u001b[38;5;66;03m# pylint: disable=unused-import\u001b[39;00m\n\u001b[1;32m---> 23\u001b[0m \u001b[38;5;28;01mfrom\u001b[39;00m \u001b[38;5;21;01mtensorflow\u001b[39;00m\u001b[38;5;21;01m.\u001b[39;00m\u001b[38;5;21;01mpython\u001b[39;00m\u001b[38;5;21;01m.\u001b[39;00m\u001b[38;5;21;01msaved_model\u001b[39;00m\u001b[38;5;21;01m.\u001b[39;00m\u001b[38;5;21;01mbuilder_impl\u001b[39;00m \u001b[38;5;28;01mimport\u001b[39;00m _SavedModelBuilder\n\u001b[0;32m     24\u001b[0m \u001b[38;5;28;01mfrom\u001b[39;00m \u001b[38;5;21;01mtensorflow\u001b[39;00m\u001b[38;5;21;01m.\u001b[39;00m\u001b[38;5;21;01mpython\u001b[39;00m\u001b[38;5;21;01m.\u001b[39;00m\u001b[38;5;21;01msaved_model\u001b[39;00m\u001b[38;5;21;01m.\u001b[39;00m\u001b[38;5;21;01mbuilder_impl\u001b[39;00m \u001b[38;5;28;01mimport\u001b[39;00m SavedModelBuilder\n",
      "File \u001b[1;32m~\\AppData\\Roaming\\Python\\Python39\\site-packages\\tensorflow\\python\\saved_model\\builder_impl.py:26\u001b[0m, in \u001b[0;36m<module>\u001b[1;34m\u001b[0m\n\u001b[0;32m     24\u001b[0m \u001b[38;5;28;01mfrom\u001b[39;00m \u001b[38;5;21;01mtensorflow\u001b[39;00m\u001b[38;5;21;01m.\u001b[39;00m\u001b[38;5;21;01mcore\u001b[39;00m\u001b[38;5;21;01m.\u001b[39;00m\u001b[38;5;21;01mprotobuf\u001b[39;00m \u001b[38;5;28;01mimport\u001b[39;00m saved_model_pb2\n\u001b[0;32m     25\u001b[0m \u001b[38;5;28;01mfrom\u001b[39;00m \u001b[38;5;21;01mtensorflow\u001b[39;00m\u001b[38;5;21;01m.\u001b[39;00m\u001b[38;5;21;01mcore\u001b[39;00m\u001b[38;5;21;01m.\u001b[39;00m\u001b[38;5;21;01mprotobuf\u001b[39;00m \u001b[38;5;28;01mimport\u001b[39;00m saver_pb2\n\u001b[1;32m---> 26\u001b[0m \u001b[38;5;28;01mfrom\u001b[39;00m \u001b[38;5;21;01mtensorflow\u001b[39;00m\u001b[38;5;21;01m.\u001b[39;00m\u001b[38;5;21;01mpython\u001b[39;00m\u001b[38;5;21;01m.\u001b[39;00m\u001b[38;5;21;01mframework\u001b[39;00m \u001b[38;5;28;01mimport\u001b[39;00m dtypes\n\u001b[0;32m     27\u001b[0m \u001b[38;5;28;01mfrom\u001b[39;00m \u001b[38;5;21;01mtensorflow\u001b[39;00m\u001b[38;5;21;01m.\u001b[39;00m\u001b[38;5;21;01mpython\u001b[39;00m\u001b[38;5;21;01m.\u001b[39;00m\u001b[38;5;21;01mframework\u001b[39;00m \u001b[38;5;28;01mimport\u001b[39;00m ops\n\u001b[0;32m     28\u001b[0m \u001b[38;5;28;01mfrom\u001b[39;00m \u001b[38;5;21;01mtensorflow\u001b[39;00m\u001b[38;5;21;01m.\u001b[39;00m\u001b[38;5;21;01mpython\u001b[39;00m\u001b[38;5;21;01m.\u001b[39;00m\u001b[38;5;21;01mframework\u001b[39;00m \u001b[38;5;28;01mimport\u001b[39;00m tensor\n",
      "File \u001b[1;32m~\\AppData\\Roaming\\Python\\Python39\\site-packages\\tensorflow\\python\\framework\\dtypes.py:37\u001b[0m, in \u001b[0;36m<module>\u001b[1;34m\u001b[0m\n\u001b[0;32m     34\u001b[0m \u001b[38;5;28;01mfrom\u001b[39;00m \u001b[38;5;21;01mtensorflow\u001b[39;00m\u001b[38;5;21;01m.\u001b[39;00m\u001b[38;5;21;01mtools\u001b[39;00m\u001b[38;5;21;01m.\u001b[39;00m\u001b[38;5;21;01mdocs\u001b[39;00m \u001b[38;5;28;01mimport\u001b[39;00m doc_controls\n\u001b[0;32m     35\u001b[0m \u001b[38;5;28;01mfrom\u001b[39;00m \u001b[38;5;21;01mtensorflow\u001b[39;00m\u001b[38;5;21;01m.\u001b[39;00m\u001b[38;5;21;01mtsl\u001b[39;00m\u001b[38;5;21;01m.\u001b[39;00m\u001b[38;5;21;01mpython\u001b[39;00m\u001b[38;5;21;01m.\u001b[39;00m\u001b[38;5;21;01mlib\u001b[39;00m\u001b[38;5;21;01m.\u001b[39;00m\u001b[38;5;21;01mcore\u001b[39;00m \u001b[38;5;28;01mimport\u001b[39;00m pywrap_ml_dtypes\n\u001b[1;32m---> 37\u001b[0m _np_bfloat16 \u001b[38;5;241m=\u001b[39m \u001b[43mpywrap_ml_dtypes\u001b[49m\u001b[38;5;241;43m.\u001b[39;49m\u001b[43mbfloat16\u001b[49m\u001b[43m(\u001b[49m\u001b[43m)\u001b[49m\n\u001b[0;32m     38\u001b[0m _np_float8_e4m3fn \u001b[38;5;241m=\u001b[39m pywrap_ml_dtypes\u001b[38;5;241m.\u001b[39mfloat8_e4m3fn()\n\u001b[0;32m     39\u001b[0m _np_float8_e5m2 \u001b[38;5;241m=\u001b[39m pywrap_ml_dtypes\u001b[38;5;241m.\u001b[39mfloat8_e5m2()\n",
      "\u001b[1;31mTypeError\u001b[0m: Unable to convert function return value to a Python type! The signature was\n\t() -> handle"
     ]
    }
   ],
   "source": [
    "from tensorflow.keras.models import Sequential\n",
    "from tensorflow.keras.layers import Dense\n",
    "from tensorflow.keras.layers import Dropout\n",
    "from tensorflow.keras.optimizers import Adam"
   ]
  },
  {
   "cell_type": "code",
   "execution_count": 11,
   "id": "c89cdfd3",
   "metadata": {},
   "outputs": [
    {
     "ename": "NameError",
     "evalue": "name 'Sequential' is not defined",
     "output_type": "error",
     "traceback": [
      "\u001b[1;31m---------------------------------------------------------------------------\u001b[0m",
      "\u001b[1;31mNameError\u001b[0m                                 Traceback (most recent call last)",
      "Input \u001b[1;32mIn [11]\u001b[0m, in \u001b[0;36m<cell line: 1>\u001b[1;34m()\u001b[0m\n\u001b[1;32m----> 1\u001b[0m model \u001b[38;5;241m=\u001b[39m \u001b[43mSequential\u001b[49m()\n\u001b[0;32m      3\u001b[0m model\u001b[38;5;241m.\u001b[39madd(Dense(\u001b[38;5;241m128\u001b[39m, input_dim\u001b[38;5;241m=\u001b[39m\u001b[38;5;241m2\u001b[39m, activation\u001b[38;5;241m=\u001b[39m\u001b[38;5;124m\"\u001b[39m\u001b[38;5;124mrelu\u001b[39m\u001b[38;5;124m\"\u001b[39m))\n\u001b[0;32m      4\u001b[0m model\u001b[38;5;241m.\u001b[39madd(Dense(\u001b[38;5;241m128\u001b[39m, activation\u001b[38;5;241m=\u001b[39m\u001b[38;5;124m\"\u001b[39m\u001b[38;5;124mrelu\u001b[39m\u001b[38;5;124m\"\u001b[39m))\n",
      "\u001b[1;31mNameError\u001b[0m: name 'Sequential' is not defined"
     ]
    }
   ],
   "source": [
    "model = Sequential()\n",
    "\n",
    "model.add(Dense(128, input_dim=2, activation=\"relu\"))\n",
    "model.add(Dense(128, activation=\"relu\"))\n",
    "model.add(Dense(1, activation=\"sigmoid\"))\n",
    "\n",
    "adam = Adam(learning_rate=0.01)\n",
    "model.compile(loss='binary_crossentropy', optimizer=adam, metrics=['accuracy'])\n",
    "\n",
    "history = model.fit(X, y, epochs=500, validation_split = 0.2,verbose=1)"
   ]
  },
  {
   "cell_type": "code",
   "execution_count": 12,
   "id": "89b2b6c1",
   "metadata": {},
   "outputs": [
    {
     "ename": "ModuleNotFoundError",
     "evalue": "No module named 'mlxtend'",
     "output_type": "error",
     "traceback": [
      "\u001b[1;31m---------------------------------------------------------------------------\u001b[0m",
      "\u001b[1;31mModuleNotFoundError\u001b[0m                       Traceback (most recent call last)",
      "Input \u001b[1;32mIn [12]\u001b[0m, in \u001b[0;36m<cell line: 1>\u001b[1;34m()\u001b[0m\n\u001b[1;32m----> 1\u001b[0m \u001b[38;5;28;01mfrom\u001b[39;00m \u001b[38;5;21;01mmlxtend\u001b[39;00m\u001b[38;5;21;01m.\u001b[39;00m\u001b[38;5;21;01mplotting\u001b[39;00m \u001b[38;5;28;01mimport\u001b[39;00m plot_decision_regions\n",
      "\u001b[1;31mModuleNotFoundError\u001b[0m: No module named 'mlxtend'"
     ]
    }
   ],
   "source": [
    "from mlxtend.plotting import plot_decision_regions"
   ]
  },
  {
   "cell_type": "code",
   "execution_count": 13,
   "id": "ed58b3de",
   "metadata": {},
   "outputs": [
    {
     "ename": "NameError",
     "evalue": "name 'plot_decision_regions' is not defined",
     "output_type": "error",
     "traceback": [
      "\u001b[1;31m---------------------------------------------------------------------------\u001b[0m",
      "\u001b[1;31mNameError\u001b[0m                                 Traceback (most recent call last)",
      "Input \u001b[1;32mIn [13]\u001b[0m, in \u001b[0;36m<cell line: 1>\u001b[1;34m()\u001b[0m\n\u001b[1;32m----> 1\u001b[0m \u001b[43mplot_decision_regions\u001b[49m(X, y\u001b[38;5;241m.\u001b[39mastype(\u001b[38;5;124m'\u001b[39m\u001b[38;5;124mint\u001b[39m\u001b[38;5;124m'\u001b[39m), clf\u001b[38;5;241m=\u001b[39mmodel, legend\u001b[38;5;241m=\u001b[39m\u001b[38;5;241m2\u001b[39m)\n\u001b[0;32m      2\u001b[0m plt\u001b[38;5;241m.\u001b[39mxlim(\u001b[38;5;241m-\u001b[39m\u001b[38;5;241m0.7\u001b[39m,\u001b[38;5;241m0.5\u001b[39m)\n\u001b[0;32m      3\u001b[0m plt\u001b[38;5;241m.\u001b[39mylim(\u001b[38;5;241m-\u001b[39m\u001b[38;5;241m0.8\u001b[39m,\u001b[38;5;241m0.8\u001b[39m)\n",
      "\u001b[1;31mNameError\u001b[0m: name 'plot_decision_regions' is not defined"
     ]
    }
   ],
   "source": [
    "plot_decision_regions(X, y.astype('int'), clf=model, legend=2)\n",
    "plt.xlim(-0.7,0.5)\n",
    "plt.ylim(-0.8,0.8)\n",
    "plt.show()"
   ]
  },
  {
   "cell_type": "code",
   "execution_count": 14,
   "id": "fcd4cf66",
   "metadata": {},
   "outputs": [
    {
     "ename": "NameError",
     "evalue": "name 'history' is not defined",
     "output_type": "error",
     "traceback": [
      "\u001b[1;31m---------------------------------------------------------------------------\u001b[0m",
      "\u001b[1;31mNameError\u001b[0m                                 Traceback (most recent call last)",
      "Input \u001b[1;32mIn [14]\u001b[0m, in \u001b[0;36m<cell line: 1>\u001b[1;34m()\u001b[0m\n\u001b[1;32m----> 1\u001b[0m plt\u001b[38;5;241m.\u001b[39mplot(\u001b[43mhistory\u001b[49m\u001b[38;5;241m.\u001b[39mhistory[\u001b[38;5;124m'\u001b[39m\u001b[38;5;124mloss\u001b[39m\u001b[38;5;124m'\u001b[39m])\n\u001b[0;32m      2\u001b[0m plt\u001b[38;5;241m.\u001b[39mplot(history\u001b[38;5;241m.\u001b[39mhistory[\u001b[38;5;124m'\u001b[39m\u001b[38;5;124mval_loss\u001b[39m\u001b[38;5;124m'\u001b[39m])\n",
      "\u001b[1;31mNameError\u001b[0m: name 'history' is not defined"
     ]
    }
   ],
   "source": [
    "plt.plot(history.history['loss'])\n",
    "plt.plot(history.history['val_loss'])"
   ]
  },
  {
   "cell_type": "code",
   "execution_count": 15,
   "id": "58f5c58c",
   "metadata": {},
   "outputs": [
    {
     "ename": "NameError",
     "evalue": "name 'history' is not defined",
     "output_type": "error",
     "traceback": [
      "\u001b[1;31m---------------------------------------------------------------------------\u001b[0m",
      "\u001b[1;31mNameError\u001b[0m                                 Traceback (most recent call last)",
      "Input \u001b[1;32mIn [15]\u001b[0m, in \u001b[0;36m<cell line: 1>\u001b[1;34m()\u001b[0m\n\u001b[1;32m----> 1\u001b[0m plt\u001b[38;5;241m.\u001b[39mplot(\u001b[43mhistory\u001b[49m\u001b[38;5;241m.\u001b[39mhistory[\u001b[38;5;124m'\u001b[39m\u001b[38;5;124maccuracy\u001b[39m\u001b[38;5;124m'\u001b[39m])\n\u001b[0;32m      2\u001b[0m plt\u001b[38;5;241m.\u001b[39mplot(history\u001b[38;5;241m.\u001b[39mhistory[\u001b[38;5;124m'\u001b[39m\u001b[38;5;124mval_accuracy\u001b[39m\u001b[38;5;124m'\u001b[39m])\n",
      "\u001b[1;31mNameError\u001b[0m: name 'history' is not defined"
     ]
    }
   ],
   "source": [
    "plt.plot(history.history['accuracy'])\n",
    "plt.plot(history.history['val_accuracy'])"
   ]
  },
  {
   "cell_type": "code",
   "execution_count": null,
   "id": "eb54c6bd",
   "metadata": {},
   "outputs": [],
   "source": []
  }
 ],
 "metadata": {
  "kernelspec": {
   "display_name": "Python 3 (ipykernel)",
   "language": "python",
   "name": "python3"
  },
  "language_info": {
   "codemirror_mode": {
    "name": "ipython",
    "version": 3
   },
   "file_extension": ".py",
   "mimetype": "text/x-python",
   "name": "python",
   "nbconvert_exporter": "python",
   "pygments_lexer": "ipython3",
   "version": "3.9.12"
  }
 },
 "nbformat": 4,
 "nbformat_minor": 5
}

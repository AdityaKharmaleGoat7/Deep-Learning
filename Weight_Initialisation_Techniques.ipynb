{
  "nbformat": 4,
  "nbformat_minor": 0,
  "metadata": {
    "colab": {
      "provenance": []
    },
    "kernelspec": {
      "name": "python3",
      "display_name": "Python 3"
    },
    "language_info": {
      "name": "python"
    }
  },
  "cells": [
    {
      "cell_type": "code",
      "execution_count": 1,
      "metadata": {
        "id": "cKVzInXrteyO"
      },
      "outputs": [],
      "source": [
        "import numpy as np\n",
        "import pandas as pd\n",
        "import matplotlib.pyplot as plt"
      ]
    },
    {
      "cell_type": "code",
      "source": [
        "df = pd.read_csv('ushape.csv')"
      ],
      "metadata": {
        "id": "l-CtLegnti3_"
      },
      "execution_count": 3,
      "outputs": []
    },
    {
      "cell_type": "code",
      "source": [
        "df.head()"
      ],
      "metadata": {
        "colab": {
          "base_uri": "https://localhost:8080/",
          "height": 206
        },
        "id": "T9P8j9Ubtt9t",
        "outputId": "b173d4f8-2a74-49be-a813-08196d589e4c"
      },
      "execution_count": 4,
      "outputs": [
        {
          "output_type": "execute_result",
          "data": {
            "text/plain": [
              "        X       Y  class\n",
              "0  2.1200 -0.0462    1.0\n",
              "1  0.8820 -0.0758    0.0\n",
              "2 -0.0551 -0.0373    1.0\n",
              "3  0.8300 -0.5390    1.0\n",
              "4  2.1100  0.6620    1.0"
            ],
            "text/html": [
              "\n",
              "  <div id=\"df-95841c05-2652-4b05-a807-ec60a33365ba\" class=\"colab-df-container\">\n",
              "    <div>\n",
              "<style scoped>\n",
              "    .dataframe tbody tr th:only-of-type {\n",
              "        vertical-align: middle;\n",
              "    }\n",
              "\n",
              "    .dataframe tbody tr th {\n",
              "        vertical-align: top;\n",
              "    }\n",
              "\n",
              "    .dataframe thead th {\n",
              "        text-align: right;\n",
              "    }\n",
              "</style>\n",
              "<table border=\"1\" class=\"dataframe\">\n",
              "  <thead>\n",
              "    <tr style=\"text-align: right;\">\n",
              "      <th></th>\n",
              "      <th>X</th>\n",
              "      <th>Y</th>\n",
              "      <th>class</th>\n",
              "    </tr>\n",
              "  </thead>\n",
              "  <tbody>\n",
              "    <tr>\n",
              "      <th>0</th>\n",
              "      <td>2.1200</td>\n",
              "      <td>-0.0462</td>\n",
              "      <td>1.0</td>\n",
              "    </tr>\n",
              "    <tr>\n",
              "      <th>1</th>\n",
              "      <td>0.8820</td>\n",
              "      <td>-0.0758</td>\n",
              "      <td>0.0</td>\n",
              "    </tr>\n",
              "    <tr>\n",
              "      <th>2</th>\n",
              "      <td>-0.0551</td>\n",
              "      <td>-0.0373</td>\n",
              "      <td>1.0</td>\n",
              "    </tr>\n",
              "    <tr>\n",
              "      <th>3</th>\n",
              "      <td>0.8300</td>\n",
              "      <td>-0.5390</td>\n",
              "      <td>1.0</td>\n",
              "    </tr>\n",
              "    <tr>\n",
              "      <th>4</th>\n",
              "      <td>2.1100</td>\n",
              "      <td>0.6620</td>\n",
              "      <td>1.0</td>\n",
              "    </tr>\n",
              "  </tbody>\n",
              "</table>\n",
              "</div>\n",
              "    <div class=\"colab-df-buttons\">\n",
              "\n",
              "  <div class=\"colab-df-container\">\n",
              "    <button class=\"colab-df-convert\" onclick=\"convertToInteractive('df-95841c05-2652-4b05-a807-ec60a33365ba')\"\n",
              "            title=\"Convert this dataframe to an interactive table.\"\n",
              "            style=\"display:none;\">\n",
              "\n",
              "  <svg xmlns=\"http://www.w3.org/2000/svg\" height=\"24px\" viewBox=\"0 -960 960 960\">\n",
              "    <path d=\"M120-120v-720h720v720H120Zm60-500h600v-160H180v160Zm220 220h160v-160H400v160Zm0 220h160v-160H400v160ZM180-400h160v-160H180v160Zm440 0h160v-160H620v160ZM180-180h160v-160H180v160Zm440 0h160v-160H620v160Z\"/>\n",
              "  </svg>\n",
              "    </button>\n",
              "\n",
              "  <style>\n",
              "    .colab-df-container {\n",
              "      display:flex;\n",
              "      gap: 12px;\n",
              "    }\n",
              "\n",
              "    .colab-df-convert {\n",
              "      background-color: #E8F0FE;\n",
              "      border: none;\n",
              "      border-radius: 50%;\n",
              "      cursor: pointer;\n",
              "      display: none;\n",
              "      fill: #1967D2;\n",
              "      height: 32px;\n",
              "      padding: 0 0 0 0;\n",
              "      width: 32px;\n",
              "    }\n",
              "\n",
              "    .colab-df-convert:hover {\n",
              "      background-color: #E2EBFA;\n",
              "      box-shadow: 0px 1px 2px rgba(60, 64, 67, 0.3), 0px 1px 3px 1px rgba(60, 64, 67, 0.15);\n",
              "      fill: #174EA6;\n",
              "    }\n",
              "\n",
              "    .colab-df-buttons div {\n",
              "      margin-bottom: 4px;\n",
              "    }\n",
              "\n",
              "    [theme=dark] .colab-df-convert {\n",
              "      background-color: #3B4455;\n",
              "      fill: #D2E3FC;\n",
              "    }\n",
              "\n",
              "    [theme=dark] .colab-df-convert:hover {\n",
              "      background-color: #434B5C;\n",
              "      box-shadow: 0px 1px 3px 1px rgba(0, 0, 0, 0.15);\n",
              "      filter: drop-shadow(0px 1px 2px rgba(0, 0, 0, 0.3));\n",
              "      fill: #FFFFFF;\n",
              "    }\n",
              "  </style>\n",
              "\n",
              "    <script>\n",
              "      const buttonEl =\n",
              "        document.querySelector('#df-95841c05-2652-4b05-a807-ec60a33365ba button.colab-df-convert');\n",
              "      buttonEl.style.display =\n",
              "        google.colab.kernel.accessAllowed ? 'block' : 'none';\n",
              "\n",
              "      async function convertToInteractive(key) {\n",
              "        const element = document.querySelector('#df-95841c05-2652-4b05-a807-ec60a33365ba');\n",
              "        const dataTable =\n",
              "          await google.colab.kernel.invokeFunction('convertToInteractive',\n",
              "                                                    [key], {});\n",
              "        if (!dataTable) return;\n",
              "\n",
              "        const docLinkHtml = 'Like what you see? Visit the ' +\n",
              "          '<a target=\"_blank\" href=https://colab.research.google.com/notebooks/data_table.ipynb>data table notebook</a>'\n",
              "          + ' to learn more about interactive tables.';\n",
              "        element.innerHTML = '';\n",
              "        dataTable['output_type'] = 'display_data';\n",
              "        await google.colab.output.renderOutput(dataTable, element);\n",
              "        const docLink = document.createElement('div');\n",
              "        docLink.innerHTML = docLinkHtml;\n",
              "        element.appendChild(docLink);\n",
              "      }\n",
              "    </script>\n",
              "  </div>\n",
              "\n",
              "\n",
              "<div id=\"df-fbeebcf3-3e1f-4f49-bf5b-a2f463bf698b\">\n",
              "  <button class=\"colab-df-quickchart\" onclick=\"quickchart('df-fbeebcf3-3e1f-4f49-bf5b-a2f463bf698b')\"\n",
              "            title=\"Suggest charts\"\n",
              "            style=\"display:none;\">\n",
              "\n",
              "<svg xmlns=\"http://www.w3.org/2000/svg\" height=\"24px\"viewBox=\"0 0 24 24\"\n",
              "     width=\"24px\">\n",
              "    <g>\n",
              "        <path d=\"M19 3H5c-1.1 0-2 .9-2 2v14c0 1.1.9 2 2 2h14c1.1 0 2-.9 2-2V5c0-1.1-.9-2-2-2zM9 17H7v-7h2v7zm4 0h-2V7h2v10zm4 0h-2v-4h2v4z\"/>\n",
              "    </g>\n",
              "</svg>\n",
              "  </button>\n",
              "\n",
              "<style>\n",
              "  .colab-df-quickchart {\n",
              "      --bg-color: #E8F0FE;\n",
              "      --fill-color: #1967D2;\n",
              "      --hover-bg-color: #E2EBFA;\n",
              "      --hover-fill-color: #174EA6;\n",
              "      --disabled-fill-color: #AAA;\n",
              "      --disabled-bg-color: #DDD;\n",
              "  }\n",
              "\n",
              "  [theme=dark] .colab-df-quickchart {\n",
              "      --bg-color: #3B4455;\n",
              "      --fill-color: #D2E3FC;\n",
              "      --hover-bg-color: #434B5C;\n",
              "      --hover-fill-color: #FFFFFF;\n",
              "      --disabled-bg-color: #3B4455;\n",
              "      --disabled-fill-color: #666;\n",
              "  }\n",
              "\n",
              "  .colab-df-quickchart {\n",
              "    background-color: var(--bg-color);\n",
              "    border: none;\n",
              "    border-radius: 50%;\n",
              "    cursor: pointer;\n",
              "    display: none;\n",
              "    fill: var(--fill-color);\n",
              "    height: 32px;\n",
              "    padding: 0;\n",
              "    width: 32px;\n",
              "  }\n",
              "\n",
              "  .colab-df-quickchart:hover {\n",
              "    background-color: var(--hover-bg-color);\n",
              "    box-shadow: 0 1px 2px rgba(60, 64, 67, 0.3), 0 1px 3px 1px rgba(60, 64, 67, 0.15);\n",
              "    fill: var(--button-hover-fill-color);\n",
              "  }\n",
              "\n",
              "  .colab-df-quickchart-complete:disabled,\n",
              "  .colab-df-quickchart-complete:disabled:hover {\n",
              "    background-color: var(--disabled-bg-color);\n",
              "    fill: var(--disabled-fill-color);\n",
              "    box-shadow: none;\n",
              "  }\n",
              "\n",
              "  .colab-df-spinner {\n",
              "    border: 2px solid var(--fill-color);\n",
              "    border-color: transparent;\n",
              "    border-bottom-color: var(--fill-color);\n",
              "    animation:\n",
              "      spin 1s steps(1) infinite;\n",
              "  }\n",
              "\n",
              "  @keyframes spin {\n",
              "    0% {\n",
              "      border-color: transparent;\n",
              "      border-bottom-color: var(--fill-color);\n",
              "      border-left-color: var(--fill-color);\n",
              "    }\n",
              "    20% {\n",
              "      border-color: transparent;\n",
              "      border-left-color: var(--fill-color);\n",
              "      border-top-color: var(--fill-color);\n",
              "    }\n",
              "    30% {\n",
              "      border-color: transparent;\n",
              "      border-left-color: var(--fill-color);\n",
              "      border-top-color: var(--fill-color);\n",
              "      border-right-color: var(--fill-color);\n",
              "    }\n",
              "    40% {\n",
              "      border-color: transparent;\n",
              "      border-right-color: var(--fill-color);\n",
              "      border-top-color: var(--fill-color);\n",
              "    }\n",
              "    60% {\n",
              "      border-color: transparent;\n",
              "      border-right-color: var(--fill-color);\n",
              "    }\n",
              "    80% {\n",
              "      border-color: transparent;\n",
              "      border-right-color: var(--fill-color);\n",
              "      border-bottom-color: var(--fill-color);\n",
              "    }\n",
              "    90% {\n",
              "      border-color: transparent;\n",
              "      border-bottom-color: var(--fill-color);\n",
              "    }\n",
              "  }\n",
              "</style>\n",
              "\n",
              "  <script>\n",
              "    async function quickchart(key) {\n",
              "      const quickchartButtonEl =\n",
              "        document.querySelector('#' + key + ' button');\n",
              "      quickchartButtonEl.disabled = true;  // To prevent multiple clicks.\n",
              "      quickchartButtonEl.classList.add('colab-df-spinner');\n",
              "      try {\n",
              "        const charts = await google.colab.kernel.invokeFunction(\n",
              "            'suggestCharts', [key], {});\n",
              "      } catch (error) {\n",
              "        console.error('Error during call to suggestCharts:', error);\n",
              "      }\n",
              "      quickchartButtonEl.classList.remove('colab-df-spinner');\n",
              "      quickchartButtonEl.classList.add('colab-df-quickchart-complete');\n",
              "    }\n",
              "    (() => {\n",
              "      let quickchartButtonEl =\n",
              "        document.querySelector('#df-fbeebcf3-3e1f-4f49-bf5b-a2f463bf698b button');\n",
              "      quickchartButtonEl.style.display =\n",
              "        google.colab.kernel.accessAllowed ? 'block' : 'none';\n",
              "    })();\n",
              "  </script>\n",
              "</div>\n",
              "    </div>\n",
              "  </div>\n"
            ],
            "application/vnd.google.colaboratory.intrinsic+json": {
              "type": "dataframe",
              "variable_name": "df",
              "summary": "{\n  \"name\": \"df\",\n  \"rows\": 99,\n  \"fields\": [\n    {\n      \"column\": \"X\",\n      \"properties\": {\n        \"dtype\": \"number\",\n        \"std\": 0.8945329043020128,\n        \"min\": -1.32,\n        \"max\": 2.18,\n        \"num_unique_values\": 96,\n        \"samples\": [\n          -0.929,\n          -0.138,\n          0.347\n        ],\n        \"semantic_type\": \"\",\n        \"description\": \"\"\n      }\n    },\n    {\n      \"column\": \"Y\",\n      \"properties\": {\n        \"dtype\": \"number\",\n        \"std\": 0.5910483820464164,\n        \"min\": -1.04,\n        \"max\": 1.57,\n        \"num_unique_values\": 97,\n        \"samples\": [\n          -0.8,\n          0.0466,\n          -0.653\n        ],\n        \"semantic_type\": \"\",\n        \"description\": \"\"\n      }\n    },\n    {\n      \"column\": \"class\",\n      \"properties\": {\n        \"dtype\": \"number\",\n        \"std\": 0.502518907629606,\n        \"min\": 0.0,\n        \"max\": 1.0,\n        \"num_unique_values\": 2,\n        \"samples\": [\n          0.0,\n          1.0\n        ],\n        \"semantic_type\": \"\",\n        \"description\": \"\"\n      }\n    }\n  ]\n}"
            }
          },
          "metadata": {},
          "execution_count": 4
        }
      ]
    },
    {
      "cell_type": "markdown",
      "source": [],
      "metadata": {
        "id": "tuqsVd5mZjFX"
      }
    },
    {
      "cell_type": "code",
      "source": [
        "from google.colab import drive\n",
        "drive.mount('/content/drive')"
      ],
      "metadata": {
        "id": "9huzhxcnaxJg",
        "outputId": "d0cffca6-f84f-4e50-b584-ea435f55ba0b",
        "colab": {
          "base_uri": "https://localhost:8080/"
        }
      },
      "execution_count": 5,
      "outputs": [
        {
          "output_type": "stream",
          "name": "stdout",
          "text": [
            "Mounted at /content/drive\n"
          ]
        }
      ]
    },
    {
      "cell_type": "code",
      "source": [
        "plt.scatter(df['X'],df['Y'],c=df['class'])"
      ],
      "metadata": {
        "colab": {
          "base_uri": "https://localhost:8080/",
          "height": 447
        },
        "id": "ZuYqGD_mtuQG",
        "outputId": "785ffb7d-9f14-4639-f200-0af5d0f3a3f8"
      },
      "execution_count": 6,
      "outputs": [
        {
          "output_type": "execute_result",
          "data": {
            "text/plain": [
              "<matplotlib.collections.PathCollection at 0x7d1266a6a260>"
            ]
          },
          "metadata": {},
          "execution_count": 6
        },
        {
          "output_type": "display_data",
          "data": {
            "text/plain": [
              "<Figure size 640x480 with 1 Axes>"
            ],
            "image/png": "[encoded data removed]"
          },
          "metadata": {}
        }
      ]
    },
    {
      "cell_type": "code",
      "source": [
        "X = df.iloc[:,0:2].values\n",
        "y = df.iloc[:,-1].values"
      ],
      "metadata": {
        "id": "nwXuHnqhtwEJ"
      },
      "execution_count": 7,
      "outputs": []
    },
    {
      "cell_type": "code",
      "source": [
        "import tensorflow\n",
        "from tensorflow import keras\n",
        "from keras import Sequential\n",
        "from keras.layers import Dense"
      ],
      "metadata": {
        "id": "ylDVIM8Ltx0H"
      },
      "execution_count": 8,
      "outputs": []
    },
    {
      "cell_type": "code",
      "source": [
        "model = Sequential()\n",
        "\n",
        "model.add(Dense(10,activation='relu',input_dim=2,kernel_initializer='he_normal'))\n",
        "model.add(Dense(10,activation='relu',kernel_initializer='he_normal'))\n",
        "model.add(Dense(10,activation='relu',kernel_initializer='he_normal'))\n",
        "model.add(Dense(10,activation='relu',kernel_initializer='he_normal'))\n",
        "model.add(Dense(1,activation='sigmoid'))\n",
        "\n",
        "model.summary()"
      ],
      "metadata": {
        "colab": {
          "base_uri": "https://localhost:8080/"
        },
        "id": "id8rhK5OtzVX",
        "outputId": "efa1b6ed-d905-429b-c0c5-21e6d88e94e3"
      },
      "execution_count": 9,
      "outputs": [
        {
          "output_type": "stream",
          "name": "stdout",
          "text": [
            "Model: \"sequential\"\n",
            "_________________________________________________________________\n",
            " Layer (type)                Output Shape              Param #   \n",
            "=================================================================\n",
            " dense (Dense)               (None, 10)                30        \n",
            "                                                                 \n",
            " dense_1 (Dense)             (None, 10)                110       \n",
            "                                                                 \n",
            " dense_2 (Dense)             (None, 10)                110       \n",
            "                                                                 \n",
            " dense_3 (Dense)             (None, 10)                110       \n",
            "                                                                 \n",
            " dense_4 (Dense)             (None, 1)                 11        \n",
            "                                                                 \n",
            "=================================================================\n",
            "Total params: 371 (1.45 KB)\n",
            "Trainable params: 371 (1.45 KB)\n",
            "Non-trainable params: 0 (0.00 Byte)\n",
            "_________________________________________________________________\n"
          ]
        }
      ]
    },
    {
      "cell_type": "code",
      "source": [
        "model.get_weights()"
      ],
      "metadata": {
        "colab": {
          "base_uri": "https://localhost:8080/"
        },
        "id": "YjST2L1qt1UP",
        "outputId": "84740a0b-65d5-4399-c753-c3d06fc9c198"
      },
      "execution_count": 10,
      "outputs": [
        {
          "output_type": "execute_result",
          "data": {
            "text/plain": [
              "[array([[ 0.5213298 ,  1.076828  , -0.8161492 ,  0.7516045 , -1.2805327 ,\n",
              "          0.79702985,  0.8473631 ,  0.9303767 ,  1.4715058 ,  0.45128077],\n",
              "        [ 0.01711713, -0.3586774 ,  0.43619254,  0.93331325,  0.3953872 ,\n",
              "         -1.9657433 , -0.757034  , -1.0115898 , -0.41884837,  1.1507244 ]],\n",
              "       dtype=float32),\n",
              " array([0., 0., 0., 0., 0., 0., 0., 0., 0., 0.], dtype=float32),\n",
              " array([[-0.33298317, -0.18284476, -0.20318334, -0.80423194, -0.27034882,\n",
              "          0.10757444, -0.15366487, -0.7296612 , -0.81762475, -0.16671616],\n",
              "        [ 0.6656101 ,  0.30323225,  0.7138618 , -0.14943488, -0.5117915 ,\n",
              "         -0.28629827, -0.4478929 ,  0.2173848 , -0.05168872,  0.1583741 ],\n",
              "        [-0.501248  , -0.8821608 ,  0.1760554 , -0.9966915 ,  0.14127302,\n",
              "         -0.6166198 ,  0.77501214,  0.35652295,  0.7548414 , -0.3019866 ],\n",
              "        [ 0.30230135, -0.33172867, -0.11804229, -0.34102303,  0.5603424 ,\n",
              "          0.14104152,  0.872988  ,  0.04457126,  0.2804007 , -0.5678764 ],\n",
              "        [-0.6857123 , -0.41194522, -0.8769736 , -0.43827382, -0.64053744,\n",
              "          0.722504  ,  0.24481578, -0.4828239 , -0.40411943,  0.8194596 ],\n",
              "        [ 0.05896943,  0.41287023,  0.271087  , -0.43538046,  0.6371646 ,\n",
              "          0.24443324, -0.16084298,  0.69165105,  0.6414642 , -0.3650241 ],\n",
              "        [-0.66163373,  0.15138379, -0.22858347,  0.3138502 ,  0.20625567,\n",
              "          0.2533758 , -0.02020315, -0.52718526,  0.4854685 , -0.1752095 ],\n",
              "        [ 0.39167204, -0.6876841 ,  0.13245702,  0.03317327, -0.2735759 ,\n",
              "         -0.42184514,  0.8190665 ,  0.16156125, -0.7175265 ,  0.3549626 ],\n",
              "        [ 0.1945929 ,  0.4152392 ,  0.02582124,  0.266007  , -0.5801291 ,\n",
              "         -0.32936153,  0.3251488 ,  0.72976434,  0.1222565 , -0.82119375],\n",
              "        [ 0.724067  ,  0.6765079 ,  0.756501  , -0.43139458,  0.08854285,\n",
              "         -0.3472068 ,  0.8629125 ,  0.39920017, -0.15051414, -0.5797544 ]],\n",
              "       dtype=float32),\n",
              " array([0., 0., 0., 0., 0., 0., 0., 0., 0., 0.], dtype=float32),\n",
              " array([[ 0.7082066 , -0.47377184,  0.43566817, -0.12250952,  0.18670012,\n",
              "          0.20562476,  0.37535083,  0.7560193 , -0.340708  , -0.7101323 ],\n",
              "        [-0.27513042, -0.09548933,  0.84444225, -0.65817815,  0.13942872,\n",
              "         -0.81771773, -0.02450938,  0.20842756,  0.27024457,  0.6388061 ],\n",
              "        [-0.06854696,  0.18242589,  0.06685844, -0.5368569 ,  0.3588908 ,\n",
              "         -0.54284537, -0.48024935, -0.6282495 , -0.5751574 ,  0.69427854],\n",
              "        [ 0.29701445, -0.6869718 , -0.9574242 , -0.39574414,  0.28671706,\n",
              "         -0.73068476, -0.28501943,  0.44943935,  0.37422645,  0.38550872],\n",
              "        [ 0.09240615, -0.13617167,  0.52057487,  0.7165911 ,  0.24067844,\n",
              "         -0.77779937, -0.09867205, -0.10733539,  0.29149723, -0.82836527],\n",
              "        [-0.21641508, -0.31089422, -0.11345792,  0.22082385, -0.21392782,\n",
              "         -0.0174248 ,  0.6124389 ,  0.6889603 , -0.4260438 , -0.38406715],\n",
              "        [-0.17289034,  0.61253226,  0.4586314 , -0.11563498, -0.44789866,\n",
              "         -0.5832708 ,  0.22506998,  0.01941754, -0.2447536 , -0.8275736 ],\n",
              "        [ 0.24467623,  0.06382527,  0.24937694, -0.5084652 , -0.15346996,\n",
              "          0.4124891 , -0.6641467 ,  0.81694627,  0.24066427, -0.77171105],\n",
              "        [-0.380184  ,  0.07989731,  0.47713304, -0.5561978 , -0.3084229 ,\n",
              "         -0.9052079 , -0.69846946, -0.4018066 ,  0.130466  , -0.3756304 ],\n",
              "        [ 0.28626385, -0.14300905,  0.7615119 , -0.40547082,  0.36434513,\n",
              "         -0.18250948,  0.30124804, -0.06179535,  0.42142078, -0.40158653]],\n",
              "       dtype=float32),\n",
              " array([0., 0., 0., 0., 0., 0., 0., 0., 0., 0.], dtype=float32),\n",
              " array([[ 6.3352835e-01,  4.3447670e-02,  7.0809931e-01, -5.3626102e-01,\n",
              "         -3.4151012e-01,  7.5760609e-01, -4.0181467e-01,  6.7350827e-02,\n",
              "          6.2041855e-01,  4.3137472e-02],\n",
              "        [-6.8426257e-01, -4.1015437e-01, -4.1859627e-01, -3.6211511e-01,\n",
              "          7.5438327e-01, -2.2107571e-01, -2.5584558e-02,  9.1686380e-01,\n",
              "         -2.2752142e-01,  1.1711973e-01],\n",
              "        [-5.5047750e-01,  6.1118197e-02, -6.5247577e-01,  1.2155265e-01,\n",
              "         -1.4384758e-01,  3.8481943e-02, -1.9106668e-01,  9.3468472e-02,\n",
              "          5.1212537e-01, -9.6639091e-01],\n",
              "        [-2.4679676e-01,  2.7805296e-01,  5.1715302e-01,  2.1790798e-01,\n",
              "          3.5986814e-01, -5.4185230e-01, -3.5989383e-01,  1.5162514e-01,\n",
              "         -5.8757806e-01,  2.6256792e-02],\n",
              "        [-9.6923105e-02, -4.9606219e-01,  6.9525741e-02, -2.8986588e-01,\n",
              "          4.3159363e-01, -6.5899920e-01, -4.4313607e-01, -1.4637408e-01,\n",
              "          5.5083430e-01,  4.7230637e-01],\n",
              "        [-8.3128244e-01,  1.8765417e-01, -4.3656778e-01, -3.5687068e-01,\n",
              "         -1.9950043e-01, -1.2960719e-01,  4.8656392e-01, -2.6668382e-01,\n",
              "          4.0131918e-01, -2.7572906e-01],\n",
              "        [ 9.1197982e-02, -3.6458665e-01, -7.0008534e-01, -7.2841215e-01,\n",
              "         -6.7812032e-01,  1.5227610e-01,  8.2324940e-01, -1.5551941e-01,\n",
              "          6.9243789e-02,  9.9288005e-01],\n",
              "        [-1.7921951e-01,  6.3357806e-01, -8.9246595e-01,  1.7514725e-01,\n",
              "          3.7425929e-01,  9.6366632e-01, -1.6899173e-01, -3.4174797e-01,\n",
              "         -3.7676048e-01,  9.2656142e-01],\n",
              "        [ 6.2199372e-01,  6.0521072e-01,  2.1012791e-01, -2.5747998e-02,\n",
              "          3.1525403e-01,  7.5983787e-01, -2.4320550e-02,  3.4828380e-01,\n",
              "         -7.6275092e-01, -2.7511239e-01],\n",
              "        [ 2.1427202e-01, -9.1931538e-04, -3.5591221e-01, -3.3908017e-02,\n",
              "         -4.3849224e-01,  1.0479318e-01,  2.0205465e-01,  7.6538301e-03,\n",
              "          4.8176226e-01,  2.8429049e-01]], dtype=float32),\n",
              " array([0., 0., 0., 0., 0., 0., 0., 0., 0., 0.], dtype=float32),\n",
              " array([[-0.43651205],\n",
              "        [-0.23453182],\n",
              "        [ 0.36048537],\n",
              "        [ 0.0207876 ],\n",
              "        [-0.19505715],\n",
              "        [ 0.73124427],\n",
              "        [ 0.54822224],\n",
              "        [-0.3128701 ],\n",
              "        [ 0.47898012],\n",
              "        [-0.6193772 ]], dtype=float32),\n",
              " array([0.], dtype=float32)]"
            ]
          },
          "metadata": {},
          "execution_count": 10
        }
      ]
    },
    {
      "cell_type": "code",
      "source": [
        "initial_weights = model.get_weights()"
      ],
      "metadata": {
        "id": "SNnRle4Dt4bc"
      },
      "execution_count": 11,
      "outputs": []
    },
    {
      "cell_type": "code",
      "source": [
        "initial_weights[0] = np.random.randn(2,10)*np.sqrt(1/2)\n",
        "initial_weights[1] = np.zeros(model.get_weights()[1].shape)\n",
        "initial_weights[2] = np.random.randn(10,10)*np.sqrt(1/10)\n",
        "initial_weights[3] = np.zeros(model.get_weights()[3].shape)\n",
        "initial_weights[4] = np.random.randn(10,10)*np.sqrt(1/10)\n",
        "initial_weights[5] = np.zeros(model.get_weights()[5].shape)\n",
        "initial_weights[6] = np.random.randn(10,10)*np.sqrt(1/10)\n",
        "initial_weights[7] = np.zeros(model.get_weights()[7].shape)\n",
        "initial_weights[8] = np.random.randn(10,1)*np.sqrt(1/10)\n",
        "initial_weights[9] = np.zeros(model.get_weights()[9].shape)"
      ],
      "metadata": {
        "id": "T6mklkSot6GI"
      },
      "execution_count": 12,
      "outputs": []
    },
    {
      "cell_type": "code",
      "source": [
        "model.set_weights(initial_weights)"
      ],
      "metadata": {
        "id": "cnoX9yK8ueEM"
      },
      "execution_count": 13,
      "outputs": []
    },
    {
      "cell_type": "code",
      "source": [
        "model.get_weights()"
      ],
      "metadata": {
        "colab": {
          "base_uri": "https://localhost:8080/"
        },
        "id": "1guey_KUujTP",
        "outputId": "79527dae-3273-4106-e061-e524fee96d4b"
      },
      "execution_count": 14,
      "outputs": [
        {
          "output_type": "execute_result",
          "data": {
            "text/plain": [
              "[array([[ 0.7582516 , -0.5922268 ,  0.1332875 ,  0.0123149 , -0.7059838 ,\n",
              "          0.7639699 ,  0.81779146,  1.0231158 ,  0.14994307, -0.09511442],\n",
              "        [-0.6728846 , -0.58510005, -1.5250236 ,  0.02502445,  0.15058559,\n",
              "         -0.6685171 , -1.5199373 , -0.38377002,  1.5719736 ,  0.40203482]],\n",
              "       dtype=float32),\n",
              " array([0., 0., 0., 0., 0., 0., 0., 0., 0., 0.], dtype=float32),\n",
              " array([[-0.16279756,  0.13331966, -0.1280663 ,  0.20163202,  0.04718416,\n",
              "         -0.3128861 , -0.3126666 , -0.1707661 , -0.10943286, -0.51371086],\n",
              "        [ 0.05952242,  0.35645413,  0.19293076,  0.1225248 , -0.25516412,\n",
              "         -0.55546874, -0.07405498,  0.36581782, -0.34971547,  0.20077948],\n",
              "        [ 0.11003344, -0.18746485,  0.2625536 ,  0.04306325, -0.2901718 ,\n",
              "          0.16674559, -0.13921422,  0.11637297, -0.20091239,  0.54444915],\n",
              "        [ 0.10351827, -0.2421092 , -0.13299635, -0.36971867,  0.0257004 ,\n",
              "          0.5983844 ,  0.15450454,  0.12527132, -0.75621504,  0.51013005],\n",
              "        [ 0.05305681,  0.9142851 , -0.16259842,  0.05831135, -0.2129917 ,\n",
              "         -0.4045297 ,  0.04863335,  0.6217192 , -0.08668885, -0.08869777],\n",
              "        [ 0.07216407, -0.22512989,  0.26422906, -0.17485747,  0.26161298,\n",
              "         -0.34508392, -0.4682058 ,  0.42687532,  0.4171126 , -0.21230665],\n",
              "        [ 0.20388147, -0.2531135 ,  0.5973403 , -0.1581726 ,  0.06289447,\n",
              "         -0.5496591 ,  0.0181233 ,  0.5608409 , -0.2665645 , -0.22231548],\n",
              "        [ 0.82650405, -0.09130482,  0.5803661 ,  0.2261049 , -0.02253296,\n",
              "         -0.17760701,  0.29636788,  0.51155734,  0.6518646 ,  0.36286497],\n",
              "        [ 0.12248697, -0.2927133 ,  0.5346015 ,  0.09792127,  0.06686585,\n",
              "          0.21972145, -0.48503467,  0.48349464, -0.03249045,  0.07507996],\n",
              "        [-0.57043993,  0.09376689, -0.19402167,  0.04113474, -0.04060381,\n",
              "         -0.01237504,  0.23910339, -0.12738143, -0.3271738 , -0.00508716]],\n",
              "       dtype=float32),\n",
              " array([0., 0., 0., 0., 0., 0., 0., 0., 0., 0.], dtype=float32),\n",
              " array([[ 0.1645862 , -0.29587436, -0.22900736,  0.43611175, -0.04613097,\n",
              "         -0.10916816, -0.15954031,  0.14705256,  0.01996174, -0.6422818 ],\n",
              "        [-0.2529039 , -0.11994176,  0.00544506,  0.31637803, -0.2193372 ,\n",
              "         -0.08628228,  0.16425024, -0.28153595,  0.74818814, -0.04021691],\n",
              "        [ 0.04304694,  0.57231295,  0.13412382, -0.29049176,  0.21440734,\n",
              "          0.17429496,  0.28791347,  0.21479379,  0.13567796, -0.00988159],\n",
              "        [ 0.4030364 , -0.31857038,  0.17994368, -0.46027252,  0.05688559,\n",
              "          0.10767411,  0.509982  ,  0.553268  , -0.51567435,  0.55986637],\n",
              "        [ 0.16555472, -0.17565794,  0.23391569, -0.2415012 , -0.20000182,\n",
              "          0.00080998, -0.22023004, -0.5483666 ,  0.13259707,  0.14984554],\n",
              "        [ 0.0422441 ,  0.38904423, -0.12731944,  0.29317182, -0.30614045,\n",
              "         -0.3196439 , -0.5975633 ,  0.04271919, -0.38657576, -0.26626226],\n",
              "        [-0.44077185,  0.4815436 ,  0.56961566,  0.6303936 , -0.5651374 ,\n",
              "          0.18620887,  0.24255073, -0.1901584 , -0.5636892 ,  0.04263249],\n",
              "        [-0.19351028, -0.17879117, -0.2798342 ,  0.13172686,  0.16106182,\n",
              "         -0.07527807,  0.57833403,  0.12549065, -0.16796722, -0.27015346],\n",
              "        [ 0.392535  , -0.07496371,  0.01808033,  0.25380597,  0.7164402 ,\n",
              "          0.19614588,  0.42505854,  0.4252361 ,  0.49644673,  0.10099655],\n",
              "        [ 0.19542359, -0.71227646, -0.12196182, -0.41104707, -0.5246218 ,\n",
              "          0.24007507,  0.34612632, -0.25775948, -0.29414868,  0.05932638]],\n",
              "       dtype=float32),\n",
              " array([0., 0., 0., 0., 0., 0., 0., 0., 0., 0.], dtype=float32),\n",
              " array([[-0.2077405 , -0.61318076,  0.8495916 , -0.03005753,  0.19922218,\n",
              "         -0.27574027, -0.04459996, -0.05481393, -0.078756  ,  0.04681695],\n",
              "        [-0.46473762, -0.4015708 ,  0.6117187 ,  0.1603179 , -0.11131155,\n",
              "         -0.15413374, -0.01413724,  0.53480214, -0.03475257,  0.00532957],\n",
              "        [ 0.01905973, -0.49541432,  0.23041196,  0.07093624,  0.1660127 ,\n",
              "          0.25542468,  0.22286426, -0.5562665 ,  0.39119166, -0.15048906],\n",
              "        [ 0.01064578,  0.17877404,  0.3268879 ,  0.3915152 , -0.13880019,\n",
              "          0.5633835 ,  0.5229774 ,  0.1297671 , -0.00583063, -0.6648243 ],\n",
              "        [ 0.2900062 , -0.02931198,  0.01033477,  0.31093833, -0.14959647,\n",
              "         -0.26499787,  0.10018294,  0.16958208, -0.32650054,  0.27141345],\n",
              "        [-0.08494093, -0.29271466,  0.35064095,  0.19267844, -0.06861987,\n",
              "          0.1563488 , -0.41661546,  0.06664205, -0.13485062, -0.09567587],\n",
              "        [ 0.19094904, -0.5216271 ,  0.08692394,  0.10597244, -0.13610311,\n",
              "          0.29905036, -0.3331318 , -0.17836873,  0.3032945 ,  0.6814306 ],\n",
              "        [ 0.28939053, -0.0981823 , -0.36904132, -0.18869306, -0.18115263,\n",
              "         -0.26318204,  0.70751554, -0.16423279,  0.04297724, -0.4718567 ],\n",
              "        [-0.06745759,  0.21962936,  0.13940927, -0.05654871, -0.27137432,\n",
              "         -0.35055953, -0.13495092,  0.17499357, -0.0869092 , -0.11689282],\n",
              "        [-0.2391215 ,  0.22308268, -0.04724877, -0.06768923, -0.533744  ,\n",
              "          0.08094334, -0.44783738, -0.2632468 , -0.34109634,  0.34393257]],\n",
              "       dtype=float32),\n",
              " array([0., 0., 0., 0., 0., 0., 0., 0., 0., 0.], dtype=float32),\n",
              " array([[-0.1922785 ],\n",
              "        [-0.17869437],\n",
              "        [-0.7157766 ],\n",
              "        [-0.60288566],\n",
              "        [-0.25951436],\n",
              "        [-0.09450158],\n",
              "        [ 0.22637206],\n",
              "        [-0.39378026],\n",
              "        [ 0.22912273],\n",
              "        [-0.44035456]], dtype=float32),\n",
              " array([0.], dtype=float32)]"
            ]
          },
          "metadata": {},
          "execution_count": 14
        }
      ]
    },
    {
      "cell_type": "code",
      "source": [
        "model.compile(loss='binary_crossentropy',optimizer='adam',metrics=['accuracy'])"
      ],
      "metadata": {
        "id": "bjAyhD8mulGG"
      },
      "execution_count": 15,
      "outputs": []
    },
    {
      "cell_type": "code",
      "source": [
        "history = model.fit(X,y,epochs=100,validation_split=0.2)"
      ],
      "metadata": {
        "colab": {
          "base_uri": "https://localhost:8080/"
        },
        "id": "H1wa0jCaun8z",
        "outputId": "9f694611-bdff-46dd-dd5f-c380e2026627"
      },
      "execution_count": 16,
      "outputs": [
        {
          "output_type": "stream",
          "name": "stdout",
          "text": [
            "Epoch 1/100\n",
            "3/3 [==============================] - 2s 180ms/step - loss: 0.8654 - accuracy: 0.4937 - val_loss: 0.8102 - val_accuracy: 0.5000\n",
            "Epoch 2/100\n",
            "3/3 [==============================] - 0s 34ms/step - loss: 0.8242 - accuracy: 0.4937 - val_loss: 0.7755 - val_accuracy: 0.5500\n",
            "Epoch 3/100\n",
            "3/3 [==============================] - 0s 39ms/step - loss: 0.7925 - accuracy: 0.4937 - val_loss: 0.7449 - val_accuracy: 0.5500\n",
            "Epoch 4/100\n",
            "3/3 [==============================] - 0s 37ms/step - loss: 0.7626 - accuracy: 0.4937 - val_loss: 0.7197 - val_accuracy: 0.5500\n",
            "Epoch 5/100\n",
            "3/3 [==============================] - 0s 29ms/step - loss: 0.7402 - accuracy: 0.5063 - val_loss: 0.7014 - val_accuracy: 0.6000\n",
            "Epoch 6/100\n",
            "3/3 [==============================] - 0s 26ms/step - loss: 0.7242 - accuracy: 0.5316 - val_loss: 0.6880 - val_accuracy: 0.6000\n",
            "Epoch 7/100\n",
            "3/3 [==============================] - 0s 32ms/step - loss: 0.7096 - accuracy: 0.5443 - val_loss: 0.6761 - val_accuracy: 0.6000\n",
            "Epoch 8/100\n",
            "3/3 [==============================] - 0s 34ms/step - loss: 0.6967 - accuracy: 0.5443 - val_loss: 0.6656 - val_accuracy: 0.6500\n",
            "Epoch 9/100\n",
            "3/3 [==============================] - 0s 31ms/step - loss: 0.6853 - accuracy: 0.5696 - val_loss: 0.6559 - val_accuracy: 0.6500\n",
            "Epoch 10/100\n",
            "3/3 [==============================] - 0s 29ms/step - loss: 0.6764 - accuracy: 0.6329 - val_loss: 0.6467 - val_accuracy: 0.8500\n",
            "Epoch 11/100\n",
            "3/3 [==============================] - 0s 32ms/step - loss: 0.6676 - accuracy: 0.7975 - val_loss: 0.6382 - val_accuracy: 0.9000\n",
            "Epoch 12/100\n",
            "3/3 [==============================] - 0s 33ms/step - loss: 0.6601 - accuracy: 0.8228 - val_loss: 0.6304 - val_accuracy: 0.9500\n",
            "Epoch 13/100\n",
            "3/3 [==============================] - 0s 36ms/step - loss: 0.6528 - accuracy: 0.8101 - val_loss: 0.6232 - val_accuracy: 0.9000\n",
            "Epoch 14/100\n",
            "3/3 [==============================] - 0s 25ms/step - loss: 0.6455 - accuracy: 0.7975 - val_loss: 0.6175 - val_accuracy: 0.9000\n",
            "Epoch 15/100\n",
            "3/3 [==============================] - 0s 28ms/step - loss: 0.6401 - accuracy: 0.7848 - val_loss: 0.6120 - val_accuracy: 0.9000\n",
            "Epoch 16/100\n",
            "3/3 [==============================] - 0s 27ms/step - loss: 0.6351 - accuracy: 0.7722 - val_loss: 0.6061 - val_accuracy: 0.9000\n",
            "Epoch 17/100\n",
            "3/3 [==============================] - 0s 34ms/step - loss: 0.6304 - accuracy: 0.7848 - val_loss: 0.5999 - val_accuracy: 0.9000\n",
            "Epoch 18/100\n",
            "3/3 [==============================] - 0s 36ms/step - loss: 0.6247 - accuracy: 0.7975 - val_loss: 0.5937 - val_accuracy: 0.9000\n",
            "Epoch 19/100\n",
            "3/3 [==============================] - 0s 19ms/step - loss: 0.6191 - accuracy: 0.7975 - val_loss: 0.5875 - val_accuracy: 0.9000\n",
            "Epoch 20/100\n",
            "3/3 [==============================] - 0s 18ms/step - loss: 0.6141 - accuracy: 0.7975 - val_loss: 0.5808 - val_accuracy: 0.9000\n",
            "Epoch 21/100\n",
            "3/3 [==============================] - 0s 19ms/step - loss: 0.6090 - accuracy: 0.7848 - val_loss: 0.5738 - val_accuracy: 0.8500\n",
            "Epoch 22/100\n",
            "3/3 [==============================] - 0s 20ms/step - loss: 0.6029 - accuracy: 0.7848 - val_loss: 0.5671 - val_accuracy: 0.8500\n",
            "Epoch 23/100\n",
            "3/3 [==============================] - 0s 18ms/step - loss: 0.5978 - accuracy: 0.7975 - val_loss: 0.5604 - val_accuracy: 0.8500\n",
            "Epoch 24/100\n",
            "3/3 [==============================] - 0s 16ms/step - loss: 0.5914 - accuracy: 0.7975 - val_loss: 0.5536 - val_accuracy: 0.8500\n",
            "Epoch 25/100\n",
            "3/3 [==============================] - 0s 16ms/step - loss: 0.5858 - accuracy: 0.8101 - val_loss: 0.5460 - val_accuracy: 0.9000\n",
            "Epoch 26/100\n",
            "3/3 [==============================] - 0s 16ms/step - loss: 0.5795 - accuracy: 0.8101 - val_loss: 0.5382 - val_accuracy: 0.9000\n",
            "Epoch 27/100\n",
            "3/3 [==============================] - 0s 16ms/step - loss: 0.5729 - accuracy: 0.8228 - val_loss: 0.5304 - val_accuracy: 0.9000\n",
            "Epoch 28/100\n",
            "3/3 [==============================] - 0s 16ms/step - loss: 0.5664 - accuracy: 0.8228 - val_loss: 0.5220 - val_accuracy: 0.9000\n",
            "Epoch 29/100\n",
            "3/3 [==============================] - 0s 21ms/step - loss: 0.5595 - accuracy: 0.8354 - val_loss: 0.5135 - val_accuracy: 0.9000\n",
            "Epoch 30/100\n",
            "3/3 [==============================] - 0s 16ms/step - loss: 0.5524 - accuracy: 0.8354 - val_loss: 0.5051 - val_accuracy: 0.9000\n",
            "Epoch 31/100\n",
            "3/3 [==============================] - 0s 18ms/step - loss: 0.5454 - accuracy: 0.8354 - val_loss: 0.4969 - val_accuracy: 0.9000\n",
            "Epoch 32/100\n",
            "3/3 [==============================] - 0s 17ms/step - loss: 0.5389 - accuracy: 0.8354 - val_loss: 0.4887 - val_accuracy: 0.9500\n",
            "Epoch 33/100\n",
            "3/3 [==============================] - 0s 18ms/step - loss: 0.5321 - accuracy: 0.8354 - val_loss: 0.4805 - val_accuracy: 0.9500\n",
            "Epoch 34/100\n",
            "3/3 [==============================] - 0s 17ms/step - loss: 0.5252 - accuracy: 0.8354 - val_loss: 0.4721 - val_accuracy: 0.9500\n",
            "Epoch 35/100\n",
            "3/3 [==============================] - 0s 16ms/step - loss: 0.5181 - accuracy: 0.8354 - val_loss: 0.4637 - val_accuracy: 0.9500\n",
            "Epoch 36/100\n",
            "3/3 [==============================] - 0s 16ms/step - loss: 0.5107 - accuracy: 0.8354 - val_loss: 0.4552 - val_accuracy: 0.9500\n",
            "Epoch 37/100\n",
            "3/3 [==============================] - 0s 19ms/step - loss: 0.5036 - accuracy: 0.8354 - val_loss: 0.4466 - val_accuracy: 0.9500\n",
            "Epoch 38/100\n",
            "3/3 [==============================] - 0s 17ms/step - loss: 0.4967 - accuracy: 0.8354 - val_loss: 0.4376 - val_accuracy: 0.9500\n",
            "Epoch 39/100\n",
            "3/3 [==============================] - 0s 16ms/step - loss: 0.4894 - accuracy: 0.8354 - val_loss: 0.4287 - val_accuracy: 0.9500\n",
            "Epoch 40/100\n",
            "3/3 [==============================] - 0s 17ms/step - loss: 0.4831 - accuracy: 0.8354 - val_loss: 0.4195 - val_accuracy: 0.9500\n",
            "Epoch 41/100\n",
            "3/3 [==============================] - 0s 18ms/step - loss: 0.4755 - accuracy: 0.8354 - val_loss: 0.4109 - val_accuracy: 0.9500\n",
            "Epoch 42/100\n",
            "3/3 [==============================] - 0s 20ms/step - loss: 0.4684 - accuracy: 0.8354 - val_loss: 0.4026 - val_accuracy: 0.9500\n",
            "Epoch 43/100\n",
            "3/3 [==============================] - 0s 17ms/step - loss: 0.4618 - accuracy: 0.8354 - val_loss: 0.3938 - val_accuracy: 0.9500\n",
            "Epoch 44/100\n",
            "3/3 [==============================] - 0s 18ms/step - loss: 0.4556 - accuracy: 0.8354 - val_loss: 0.3853 - val_accuracy: 0.9500\n",
            "Epoch 45/100\n",
            "3/3 [==============================] - 0s 16ms/step - loss: 0.4483 - accuracy: 0.8354 - val_loss: 0.3771 - val_accuracy: 0.9500\n",
            "Epoch 46/100\n",
            "3/3 [==============================] - 0s 16ms/step - loss: 0.4423 - accuracy: 0.8354 - val_loss: 0.3690 - val_accuracy: 0.9500\n",
            "Epoch 47/100\n",
            "3/3 [==============================] - 0s 16ms/step - loss: 0.4367 - accuracy: 0.8481 - val_loss: 0.3612 - val_accuracy: 0.9500\n",
            "Epoch 48/100\n",
            "3/3 [==============================] - 0s 17ms/step - loss: 0.4308 - accuracy: 0.8481 - val_loss: 0.3536 - val_accuracy: 0.9500\n",
            "Epoch 49/100\n",
            "3/3 [==============================] - 0s 16ms/step - loss: 0.4248 - accuracy: 0.8481 - val_loss: 0.3469 - val_accuracy: 0.9500\n",
            "Epoch 50/100\n",
            "3/3 [==============================] - 0s 16ms/step - loss: 0.4190 - accuracy: 0.8481 - val_loss: 0.3403 - val_accuracy: 0.9500\n",
            "Epoch 51/100\n",
            "3/3 [==============================] - 0s 17ms/step - loss: 0.4155 - accuracy: 0.8354 - val_loss: 0.3334 - val_accuracy: 0.9500\n",
            "Epoch 52/100\n",
            "3/3 [==============================] - 0s 23ms/step - loss: 0.4100 - accuracy: 0.8354 - val_loss: 0.3272 - val_accuracy: 0.9500\n",
            "Epoch 53/100\n",
            "3/3 [==============================] - 0s 17ms/step - loss: 0.4056 - accuracy: 0.8354 - val_loss: 0.3213 - val_accuracy: 0.9500\n",
            "Epoch 54/100\n",
            "3/3 [==============================] - 0s 18ms/step - loss: 0.4013 - accuracy: 0.8481 - val_loss: 0.3155 - val_accuracy: 0.9500\n",
            "Epoch 55/100\n",
            "3/3 [==============================] - 0s 18ms/step - loss: 0.3975 - accuracy: 0.8481 - val_loss: 0.3096 - val_accuracy: 0.9500\n",
            "Epoch 56/100\n",
            "3/3 [==============================] - 0s 17ms/step - loss: 0.3938 - accuracy: 0.8481 - val_loss: 0.3043 - val_accuracy: 0.9500\n",
            "Epoch 57/100\n",
            "3/3 [==============================] - 0s 17ms/step - loss: 0.3896 - accuracy: 0.8481 - val_loss: 0.2998 - val_accuracy: 0.9500\n",
            "Epoch 58/100\n",
            "3/3 [==============================] - 0s 18ms/step - loss: 0.3866 - accuracy: 0.8481 - val_loss: 0.2953 - val_accuracy: 0.9500\n",
            "Epoch 59/100\n",
            "3/3 [==============================] - 0s 17ms/step - loss: 0.3832 - accuracy: 0.8481 - val_loss: 0.2904 - val_accuracy: 0.9500\n",
            "Epoch 60/100\n",
            "3/3 [==============================] - 0s 18ms/step - loss: 0.3804 - accuracy: 0.8481 - val_loss: 0.2853 - val_accuracy: 0.9500\n",
            "Epoch 61/100\n",
            "3/3 [==============================] - 0s 18ms/step - loss: 0.3776 - accuracy: 0.8481 - val_loss: 0.2809 - val_accuracy: 0.9500\n",
            "Epoch 62/100\n",
            "3/3 [==============================] - 0s 18ms/step - loss: 0.3748 - accuracy: 0.8481 - val_loss: 0.2769 - val_accuracy: 0.9500\n",
            "Epoch 63/100\n",
            "3/3 [==============================] - 0s 18ms/step - loss: 0.3719 - accuracy: 0.8481 - val_loss: 0.2738 - val_accuracy: 0.9500\n",
            "Epoch 64/100\n",
            "3/3 [==============================] - 0s 17ms/step - loss: 0.3695 - accuracy: 0.8481 - val_loss: 0.2709 - val_accuracy: 0.9500\n",
            "Epoch 65/100\n",
            "3/3 [==============================] - 0s 17ms/step - loss: 0.3673 - accuracy: 0.8481 - val_loss: 0.2685 - val_accuracy: 0.9500\n",
            "Epoch 66/100\n",
            "3/3 [==============================] - 0s 18ms/step - loss: 0.3650 - accuracy: 0.8481 - val_loss: 0.2655 - val_accuracy: 0.9500\n",
            "Epoch 67/100\n",
            "3/3 [==============================] - 0s 17ms/step - loss: 0.3627 - accuracy: 0.8481 - val_loss: 0.2627 - val_accuracy: 0.9500\n",
            "Epoch 68/100\n",
            "3/3 [==============================] - 0s 17ms/step - loss: 0.3609 - accuracy: 0.8481 - val_loss: 0.2598 - val_accuracy: 0.9500\n",
            "Epoch 69/100\n",
            "3/3 [==============================] - 0s 16ms/step - loss: 0.3585 - accuracy: 0.8481 - val_loss: 0.2575 - val_accuracy: 0.9500\n",
            "Epoch 70/100\n",
            "3/3 [==============================] - 0s 17ms/step - loss: 0.3571 - accuracy: 0.8481 - val_loss: 0.2550 - val_accuracy: 0.9500\n",
            "Epoch 71/100\n",
            "3/3 [==============================] - 0s 17ms/step - loss: 0.3549 - accuracy: 0.8481 - val_loss: 0.2529 - val_accuracy: 0.9500\n",
            "Epoch 72/100\n",
            "3/3 [==============================] - 0s 18ms/step - loss: 0.3535 - accuracy: 0.8481 - val_loss: 0.2505 - val_accuracy: 0.9500\n",
            "Epoch 73/100\n",
            "3/3 [==============================] - 0s 18ms/step - loss: 0.3520 - accuracy: 0.8481 - val_loss: 0.2483 - val_accuracy: 0.9500\n",
            "Epoch 74/100\n",
            "3/3 [==============================] - 0s 31ms/step - loss: 0.3508 - accuracy: 0.8481 - val_loss: 0.2467 - val_accuracy: 0.9000\n",
            "Epoch 75/100\n",
            "3/3 [==============================] - 0s 19ms/step - loss: 0.3492 - accuracy: 0.8481 - val_loss: 0.2443 - val_accuracy: 0.9500\n",
            "Epoch 76/100\n",
            "3/3 [==============================] - 0s 20ms/step - loss: 0.3478 - accuracy: 0.8481 - val_loss: 0.2414 - val_accuracy: 0.9500\n",
            "Epoch 77/100\n",
            "3/3 [==============================] - 0s 17ms/step - loss: 0.3461 - accuracy: 0.8481 - val_loss: 0.2389 - val_accuracy: 0.9500\n",
            "Epoch 78/100\n",
            "3/3 [==============================] - 0s 18ms/step - loss: 0.3451 - accuracy: 0.8481 - val_loss: 0.2357 - val_accuracy: 0.9500\n",
            "Epoch 79/100\n",
            "3/3 [==============================] - 0s 18ms/step - loss: 0.3435 - accuracy: 0.8481 - val_loss: 0.2329 - val_accuracy: 0.9500\n",
            "Epoch 80/100\n",
            "3/3 [==============================] - 0s 18ms/step - loss: 0.3422 - accuracy: 0.8481 - val_loss: 0.2306 - val_accuracy: 0.9500\n",
            "Epoch 81/100\n",
            "3/3 [==============================] - 0s 18ms/step - loss: 0.3408 - accuracy: 0.8481 - val_loss: 0.2291 - val_accuracy: 0.9500\n",
            "Epoch 82/100\n",
            "3/3 [==============================] - 0s 16ms/step - loss: 0.3396 - accuracy: 0.8481 - val_loss: 0.2281 - val_accuracy: 0.9500\n",
            "Epoch 83/100\n",
            "3/3 [==============================] - 0s 17ms/step - loss: 0.3392 - accuracy: 0.8481 - val_loss: 0.2283 - val_accuracy: 0.9000\n",
            "Epoch 84/100\n",
            "3/3 [==============================] - 0s 18ms/step - loss: 0.3374 - accuracy: 0.8481 - val_loss: 0.2273 - val_accuracy: 0.9000\n",
            "Epoch 85/100\n",
            "3/3 [==============================] - 0s 18ms/step - loss: 0.3362 - accuracy: 0.8481 - val_loss: 0.2265 - val_accuracy: 0.9000\n",
            "Epoch 86/100\n",
            "3/3 [==============================] - 0s 18ms/step - loss: 0.3347 - accuracy: 0.8481 - val_loss: 0.2247 - val_accuracy: 0.9500\n",
            "Epoch 87/100\n",
            "3/3 [==============================] - 0s 19ms/step - loss: 0.3336 - accuracy: 0.8481 - val_loss: 0.2220 - val_accuracy: 0.9500\n",
            "Epoch 88/100\n",
            "3/3 [==============================] - 0s 18ms/step - loss: 0.3319 - accuracy: 0.8481 - val_loss: 0.2203 - val_accuracy: 0.9500\n",
            "Epoch 89/100\n",
            "3/3 [==============================] - 0s 17ms/step - loss: 0.3312 - accuracy: 0.8481 - val_loss: 0.2188 - val_accuracy: 0.9500\n",
            "Epoch 90/100\n",
            "3/3 [==============================] - 0s 27ms/step - loss: 0.3306 - accuracy: 0.8481 - val_loss: 0.2179 - val_accuracy: 0.9500\n",
            "Epoch 91/100\n",
            "3/3 [==============================] - 0s 18ms/step - loss: 0.3294 - accuracy: 0.8481 - val_loss: 0.2174 - val_accuracy: 0.9500\n",
            "Epoch 92/100\n",
            "3/3 [==============================] - 0s 20ms/step - loss: 0.3283 - accuracy: 0.8481 - val_loss: 0.2172 - val_accuracy: 0.9500\n",
            "Epoch 93/100\n",
            "3/3 [==============================] - 0s 18ms/step - loss: 0.3276 - accuracy: 0.8481 - val_loss: 0.2176 - val_accuracy: 0.9500\n",
            "Epoch 94/100\n",
            "3/3 [==============================] - 0s 19ms/step - loss: 0.3260 - accuracy: 0.8481 - val_loss: 0.2167 - val_accuracy: 0.9500\n",
            "Epoch 95/100\n",
            "3/3 [==============================] - 0s 23ms/step - loss: 0.3250 - accuracy: 0.8481 - val_loss: 0.2158 - val_accuracy: 0.9500\n",
            "Epoch 96/100\n",
            "3/3 [==============================] - 0s 16ms/step - loss: 0.3245 - accuracy: 0.8481 - val_loss: 0.2148 - val_accuracy: 0.9000\n",
            "Epoch 97/100\n",
            "3/3 [==============================] - 0s 19ms/step - loss: 0.3231 - accuracy: 0.8481 - val_loss: 0.2130 - val_accuracy: 0.9000\n",
            "Epoch 98/100\n",
            "3/3 [==============================] - 0s 18ms/step - loss: 0.3221 - accuracy: 0.8481 - val_loss: 0.2106 - val_accuracy: 0.9500\n",
            "Epoch 99/100\n",
            "3/3 [==============================] - 0s 17ms/step - loss: 0.3212 - accuracy: 0.8481 - val_loss: 0.2083 - val_accuracy: 0.9500\n",
            "Epoch 100/100\n",
            "3/3 [==============================] - 0s 20ms/step - loss: 0.3200 - accuracy: 0.8481 - val_loss: 0.2065 - val_accuracy: 0.9500\n"
          ]
        }
      ]
    },
    {
      "cell_type": "code",
      "source": [
        "model.get_weights()"
      ],
      "metadata": {
        "colab": {
          "base_uri": "https://localhost:8080/"
        },
        "id": "8K2E1Z5Oupj_",
        "outputId": "b2f6dae5-ea9a-4cc9-8668-1d54a7b78d9d"
      },
      "execution_count": null,
      "outputs": [
        {
          "output_type": "execute_result",
          "data": {
            "text/plain": [
              "[array([[-0.7534644 , -0.40642726, -0.46373174, -0.7715832 , -0.1277438 ,\n",
              "         -0.2729551 ,  0.34282172, -0.2771892 , -0.26632193, -1.429772  ],\n",
              "        [ 1.0737787 ,  0.47488663,  0.62465155, -0.12547861,  0.20325062,\n",
              "         -0.28902182, -0.28489602, -0.7651134 ,  0.32014093,  0.38592413]],\n",
              "       dtype=float32),\n",
              " array([ 0.17320989,  0.00114872,  0.0397424 , -0.13545433,  0.00454802,\n",
              "        -0.22851905, -0.04516467,  0.15110366, -0.06830908,  0.17423655],\n",
              "       dtype=float32),\n",
              " array([[ 0.07947282,  0.26585355,  0.15415847, -0.25968108, -0.01067472,\n",
              "          0.37633535,  0.03868366, -0.38048545, -0.19025889, -0.65158546],\n",
              "        [-0.85772514, -0.04266584,  0.12410757, -0.38518146,  0.4134989 ,\n",
              "         -0.11743478, -0.66751945,  0.37822312, -0.16036926, -0.14447264],\n",
              "        [-0.14926817, -0.04317714,  0.24179652, -0.20616755,  0.4172752 ,\n",
              "         -0.737155  , -0.17425217,  0.3156445 , -0.3552739 , -0.395115  ],\n",
              "        [-0.26271275, -0.16797927,  0.30563584, -0.03270569, -0.01150104,\n",
              "         -0.24627677,  0.24142104, -0.07621646,  0.3339557 ,  0.10243275],\n",
              "        [ 0.26255026,  0.02363358,  0.3236393 , -0.43547204,  0.26811856,\n",
              "         -0.49417892, -0.0136685 ,  0.00086602, -0.24076873, -0.00815725],\n",
              "        [ 0.06651404, -0.16314201,  0.26959333,  0.3236881 ,  0.11817549,\n",
              "          0.17660452,  0.11021394,  0.47018412,  0.5029724 ,  0.54021436],\n",
              "        [ 0.01232329, -0.43329835, -0.21424858,  0.48738435, -0.38471356,\n",
              "          0.35022077, -0.33246592, -0.03527692,  0.34334227,  0.33408895],\n",
              "        [-0.17499602, -0.08846112,  0.44534263,  0.41706678, -0.25442937,\n",
              "         -0.13242589, -0.5917319 , -0.75003874,  0.0550186 , -0.08872192],\n",
              "        [ 0.4335519 ,  0.11488257,  0.29251856, -0.29791567,  0.03763288,\n",
              "         -0.11979282, -0.4849098 ,  0.18739605,  0.00637927,  0.16282775],\n",
              "        [-0.17443036,  0.08167496, -0.5419055 ,  0.12802073, -0.22356339,\n",
              "          0.38808206, -0.21330813, -0.49614394,  0.22101277, -0.00226254]],\n",
              "       dtype=float32),\n",
              " array([ 0.049227  ,  0.02721086,  0.03504166, -0.01238636, -0.01706586,\n",
              "         0.01988176,  0.00092993, -0.07296985,  0.04619956, -0.05349142],\n",
              "       dtype=float32),\n",
              " array([[ 0.29350972,  0.01495209, -0.16467233,  0.02042359, -0.14378741,\n",
              "         -0.05700863,  0.11989471, -0.05637817,  0.27254355,  0.47402745],\n",
              "        [ 0.25167063, -0.14288695,  0.17566955,  0.41847163, -0.3347687 ,\n",
              "          0.00793358,  0.48080194, -0.25084803,  0.34036502, -0.39949074],\n",
              "        [ 0.2644032 , -0.0856568 , -0.4119659 , -0.09630942, -0.17804305,\n",
              "          0.52713746,  0.3026423 , -0.40907007,  0.5909925 , -0.0976069 ],\n",
              "        [ 0.36357093, -0.00488952, -0.26088867,  0.67006505,  0.28054923,\n",
              "         -0.17542177,  0.05486431, -0.21949461,  0.16455914, -0.04049552],\n",
              "        [ 0.55641574, -0.34682623,  0.07759377, -0.08662193, -0.09695615,\n",
              "          0.11891202, -0.01521198,  0.56446314,  0.23075795,  0.23031878],\n",
              "        [-0.09142579,  0.5548033 , -0.32469928,  0.3647462 , -0.12595163,\n",
              "          0.07089631,  0.03449333, -0.14888313, -0.05808999,  0.39150393],\n",
              "        [ 0.07599428, -0.12699255,  0.13093065, -0.07967905, -0.2547059 ,\n",
              "          0.04206409,  0.12510847, -0.39710048,  0.40889964,  0.32673928],\n",
              "        [ 0.5740713 , -0.2281679 ,  0.58825105, -0.40184653, -0.00410547,\n",
              "          0.58658844,  0.05537734,  0.03298928,  0.31169656, -0.19233175],\n",
              "        [-0.12104338, -0.5014624 ,  0.3113903 , -0.18781507, -0.46274775,\n",
              "         -0.11499538, -0.02999777, -0.53375983,  0.18876345,  0.00505815],\n",
              "        [-0.19417681, -0.06788933, -0.17673816,  0.1532216 , -0.28136235,\n",
              "         -0.2114139 , -0.47005594, -0.15971005, -0.65872353, -0.00340652]],\n",
              "       dtype=float32),\n",
              " array([-0.10150597, -0.03123332, -0.0282005 ,  0.00438787, -0.0004478 ,\n",
              "        -0.01638761,  0.02175754, -0.0104647 , -0.0085741 ,  0.0146223 ],\n",
              "       dtype=float32),\n",
              " array([[-0.22318298,  0.07007452, -0.2524823 , -0.05630882, -0.28767478,\n",
              "         -0.30032828, -0.53940725,  0.39169684, -0.15365812, -0.0530921 ],\n",
              "        [ 0.4531743 , -0.08485935,  0.12253729, -0.30106953, -0.1967986 ,\n",
              "         -0.23179246,  0.03937139, -0.92975223,  0.24682377, -0.42667037],\n",
              "        [ 0.21209171, -0.67760456, -0.10822933, -0.41114506,  0.6541816 ,\n",
              "         -0.14481081, -0.03953418,  0.04622973, -0.0592063 ,  0.29646206],\n",
              "        [ 0.0608221 , -0.13862969,  0.33889246,  0.17931186, -0.05995693,\n",
              "          0.54015994,  0.3014577 ,  0.00219015, -1.0318656 , -0.20843661],\n",
              "        [ 0.37494394,  0.3653853 , -0.27225742, -0.565997  ,  0.18694456,\n",
              "         -0.10070051,  0.03893152,  0.54326385,  1.0207042 , -0.3092072 ],\n",
              "        [-0.8066734 , -0.2072293 , -0.48196635,  0.23339203,  0.5445601 ,\n",
              "         -0.1517635 , -0.67532665, -0.14281388, -0.01136848,  0.30655432],\n",
              "        [-0.5232737 , -0.71261376,  0.06331099,  0.5418455 ,  0.04043067,\n",
              "         -0.07597745,  0.19247657,  0.52028334,  0.5407295 ,  1.3793249 ],\n",
              "        [-0.4539783 , -0.09870224, -0.23679186, -0.5744874 ,  0.06544055,\n",
              "         -0.12984492,  0.08924435,  0.48100042,  0.28226385,  0.02544265],\n",
              "        [ 0.27545497, -0.5602012 ,  0.02050368, -0.43816292,  0.4175032 ,\n",
              "         -0.04267948, -0.0295357 ,  0.16153401, -0.2269098 ,  0.1951963 ],\n",
              "        [ 0.0839916 ,  0.5102925 ,  0.36176258,  0.32111955,  0.16688062,\n",
              "         -0.14484844,  0.00219644, -0.24006948, -0.2244049 , -0.06599794]],\n",
              "       dtype=float32),\n",
              " array([-0.0068772 ,  0.0014922 ,  0.01118906,  0.0100634 , -0.04027907,\n",
              "         0.04657998,  0.03504817, -0.00922029, -0.00490694,  0.01948539],\n",
              "       dtype=float32),\n",
              " array([[ 0.29533505],\n",
              "        [ 0.40718013],\n",
              "        [ 0.52056015],\n",
              "        [ 0.09189746],\n",
              "        [-0.37449685],\n",
              "        [ 0.3979505 ],\n",
              "        [ 0.5800399 ],\n",
              "        [-0.46293905],\n",
              "        [-0.34727475],\n",
              "        [-0.62581825]], dtype=float32),\n",
              " array([0.03037571], dtype=float32)]"
            ]
          },
          "metadata": {},
          "execution_count": 52
        }
      ]
    },
    {
      "cell_type": "code",
      "source": [
        "from mlxtend.plotting import plot_decision_regions\n",
        "plot_decision_regions(X,y.astype('int'), clf=model, legend=2)"
      ],
      "metadata": {
        "colab": {
          "base_uri": "https://localhost:8080/",
          "height": 465
        },
        "id": "h2jKnSGeuuLY",
        "outputId": "6727024e-72bb-4920-db7f-1021e64c3d86"
      },
      "execution_count": 17,
      "outputs": [
        {
          "output_type": "stream",
          "name": "stdout",
          "text": [
            "9600/9600 [==============================] - 14s 1ms/step\n"
          ]
        },
        {
          "output_type": "execute_result",
          "data": {
            "text/plain": [
              "<Axes: >"
            ]
          },
          "metadata": {},
          "execution_count": 17
        },
        {
          "output_type": "display_data",
          "data": {
            "text/plain": [
              "<Figure size 640x480 with 1 Axes>"
            ],
            "image/png": "[encoded data removed]"
          },
          "metadata": {}
        }
      ]
    },
    {
      "cell_type": "code",
      "source": [
        "(np.random.randn(10,10)*0.01).min()"
      ],
      "metadata": {
        "colab": {
          "base_uri": "https://localhost:8080/"
        },
        "id": "6cQtO9mpuxLI",
        "outputId": "8bd0e5f3-0f39-45a3-9e07-300894002180"
      },
      "execution_count": 18,
      "outputs": [
        {
          "output_type": "execute_result",
          "data": {
            "text/plain": [
              "-0.020387312902884976"
            ]
          },
          "metadata": {},
          "execution_count": 18
        }
      ]
    },
    {
      "cell_type": "code",
      "source": [
        "(np.random.randn(10,10)*0.01).max()"
      ],
      "metadata": {
        "colab": {
          "base_uri": "https://localhost:8080/"
        },
        "id": "diiaUiL92T7H",
        "outputId": "034342dd-c373-4116-919c-df1a5210227c"
      },
      "execution_count": 19,
      "outputs": [
        {
          "output_type": "execute_result",
          "data": {
            "text/plain": [
              "0.02129420197811741"
            ]
          },
          "metadata": {},
          "execution_count": 19
        }
      ]
    },
    {
      "cell_type": "code",
      "source": [],
      "metadata": {
        "id": "b2DJRNfI3BOE"
      },
      "execution_count": null,
      "outputs": []
    }
  ]
}